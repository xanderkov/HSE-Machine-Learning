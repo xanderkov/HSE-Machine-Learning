{
  "cells": [
    {
      "cell_type": "markdown",
      "metadata": {
        "colab_type": "text",
        "id": "view-in-github"
      },
      "source": [
        "<a href=\"https://colab.research.google.com/github/Murcha1990/ML_AI24/blob/main/Hometasks/Base/AI_HW3_Classification_base.ipynb\" target=\"_parent\"><img src=\"https://colab.research.google.com/assets/colab-badge.svg\" alt=\"Open In Colab\"/></a>"
      ]
    },
    {
      "cell_type": "markdown",
      "metadata": {
        "id": "125eAde1VB9p"
      },
      "source": [
        "# **Домашнее задание 3. Линейная классификация. Работа с признаками**"
      ]
    },
    {
      "cell_type": "markdown",
      "metadata": {
        "id": "mza-ytI_VB9t"
      },
      "source": [
        "### **Оценивание и штрафы**\n",
        "\n",
        "Кака всегда - каждая из задач имеет «стоимость» (указана в скобках около задачи).\n",
        "\n",
        "В задании три части:\n",
        "\n",
        "- Часть 1 (2.5 балла): написание логистической регрессии своими руками\n",
        "- Часть 2 (5 баллов): различные методы отбора признаков\n",
        "- Часть 3 (3.5 балла): обучение моделей классификации на текстах\n",
        "\n",
        "Всего за задание можно получить 11 баллов, но:\n",
        "\n",
        "**Балл за задание = min{ваш балл, 10}.**"
      ]
    },
    {
      "cell_type": "code",
      "execution_count": 76,
      "metadata": {
        "ExecuteTime": {
          "end_time": "2019-10-16T18:11:48.202066Z",
          "start_time": "2019-10-16T18:11:46.362572Z"
        },
        "colab": {
          "base_uri": "https://localhost:8080/"
        },
        "id": "QQo0z9ZGVB9v",
        "outputId": "87e8b949-2024-4e02-bf5c-56c68f48db64"
      },
      "outputs": [
        {
          "name": "stdout",
          "output_type": "stream",
          "text": [
            "%pylab is deprecated, use %matplotlib inline and import the required libraries.\n",
            "Populating the interactive namespace from numpy and matplotlib\n"
          ]
        }
      ],
      "source": [
        "%pylab inline\n",
        "import pandas as pd\n",
        "\n",
        "from sklearn.datasets import make_classification\n",
        "from sklearn.model_selection import train_test_split"
      ]
    },
    {
      "cell_type": "markdown",
      "metadata": {
        "id": "_9L36HLHVB9w"
      },
      "source": [
        "# **Часть 1. Логистическая регрессия своими руками (2.5 балла)**"
      ]
    },
    {
      "cell_type": "markdown",
      "metadata": {
        "ExecuteTime": {
          "end_time": "2018-10-12T07:36:04.765536Z",
          "start_time": "2018-10-12T07:35:57.814973Z"
        },
        "id": "_rilRoZZVB9w"
      },
      "source": [
        "## **Задание 1. Реализуйте класс логистической регрессии, обучаемой с помощью:**\n",
        "\n",
        "**Задание 1.1 (1 балл). Градиентного спуска**\n",
        "\n",
        "**Задание 1.2 (1 балл). Стохастического градиентного спуска**\n",
        "\n",
        "До этого вы писали код без ограничений. Здесь же необходимо соблюдать следующие условия:\n",
        "\n",
        "- Градиентный спуск необходимо записать в векторном виде;\n",
        "- Циклы средствами python допускается использовать только для итераций градиентного спуска;\n",
        "\n",
        "**Класс градиентного спуска должен:**\n",
        "- В качестве критерия останова использовать (одновременно):\n",
        "  - проверку на евклидову норму разности весов на двух соседних итерациях задаваемого параметром `tolerance`;\n",
        "  - достижение максимального числа итераций, задаваемого параметром `max_iter`.\n",
        "- Обладать атрибутом `loss_history`. В нём после вызова метода fit должны содержаться значения функции потерь для всех итераций, начиная с первой (до совершения первого шага по антиградиенту). Данный атрибут необходим, чтобы проследить, что оптимизационный процесс действительно сходится;\n",
        "- Инициализировать веса случайным образом или нулевым вектором (на ваш выбор)."
      ]
    },
    {
      "cell_type": "markdown",
      "metadata": {
        "id": "a0hcxIOiVB9w"
      },
      "source": [
        "Полезно [почитать](https://scikit-learn.org/stable/developers/develop.html)."
      ]
    },
    {
      "cell_type": "markdown",
      "metadata": {
        "id": "SgzMXEhzXEkI"
      },
      "source": [
        "**Шаблон класса описан ниже, вам нужно реализовать каждую из заготовленных функций.**\n",
        "\n",
        "**ВАЖНО!** Мы заполняем данный шаблон, даже если он нам не нравится. Менять структуру класса и писать по-своему запрещено - за это будут сняты баллы."
      ]
    },
    {
      "cell_type": "code",
      "execution_count": 2,
      "metadata": {},
      "outputs": [],
      "source": [
        "EPS = 1e-5"
      ]
    },
    {
      "cell_type": "code",
      "execution_count": 3,
      "metadata": {
        "ExecuteTime": {
          "end_time": "2019-10-16T18:11:50.932537Z",
          "start_time": "2019-10-16T18:11:50.752839Z"
        },
        "id": "jPtVGuYxVB9w"
      },
      "outputs": [],
      "source": [
        "import numpy as np\n",
        "from sklearn.base import BaseEstimator\n",
        "\n",
        "class LogReg(BaseEstimator):\n",
        "    def __init__(self, gd_type='stochastic',\n",
        "                 tolerance=1e-4, max_iter=1000, w0=None, eta=1e-2):\n",
        "        \"\"\"\n",
        "        gd_type: 'full' or 'stochastic'\n",
        "        tolerance: for stopping gradient descent\n",
        "        max_iter: maximum number of steps in gradient descent\n",
        "        w0: np.array of shape (d) — init weights\n",
        "        eta: learning rate\n",
        "        \"\"\"\n",
        "        self.gd_type = gd_type\n",
        "        self.tolerance = tolerance\n",
        "        self.max_iter = max_iter\n",
        "        self.w0 = w0\n",
        "        self.w = None\n",
        "        self.eta = eta\n",
        "        self.loss_history = None # list of loss function values at each training iteration\n",
        "\n",
        "    def fit(self, X, y):\n",
        "        \"\"\"\n",
        "        X: np.array of shape (ell, d)\n",
        "        y: np.array of shape (ell)\n",
        "        ---\n",
        "        output: self\n",
        "        \"\"\"\n",
        "        self.loss_history = []\n",
        "        n_samples, n_features = X.shape\n",
        "        self.w = self.w0 if self.w0 is not None else np.zeros(n_features)\n",
        "        for iteration in range(self.max_iter):\n",
        "            gradient = self.calc_gradient(X, y)\n",
        "            w_prev = self.w.copy()\n",
        "\n",
        "            self.w -= self.eta * gradient\n",
        "\n",
        "            loss = self.calc_loss(X, y)\n",
        "            self.loss_history.append(loss)\n",
        "            if np.linalg.norm(self.w - w_prev) < self.tolerance:\n",
        "                break\n",
        "        return self\n",
        "\n",
        "\n",
        "    def predict_proba(self, X):\n",
        "        if self.w is None:\n",
        "            raise Exception('Not trained yet')\n",
        "        return 1 / (1 + np.exp(-X.dot(self.w)))\n",
        "\n",
        "\n",
        "    def predict(self, X):\n",
        "        if self.w is None:\n",
        "            raise Exception('Not trained yet')\n",
        "        probs = self.predict_proba(X)\n",
        "        return (probs >= 0.5).astype(int)\n",
        "\n",
        "    def calc_gradient(self, X, y):\n",
        "        \"\"\"\n",
        "        X: np.array of shape (ell, d) (ell can be equal to 1 if stochastic)\n",
        "        y: np.array of shape (ell)\n",
        "        ---\n",
        "        output: np.array of shape (d)\n",
        "        \"\"\"\n",
        "        m = X.shape[0]\n",
        "        predictions = self.predict_proba(X)\n",
        "        gradient = X.T.dot(predictions - y) / m\n",
        "        return gradient\n",
        "\n",
        "    def calc_loss(self, X, y):\n",
        "        \"\"\"\n",
        "        X: np.array of shape (ell, d)\n",
        "        y: np.array of shape (ell)\n",
        "        ---\n",
        "        output: float\n",
        "        \"\"\"\n",
        "        predictions = self.predict_proba(X)\n",
        "        loss = -np.mean(y * np.log(predictions + EPS) + (1 - y) * np.log(1 - predictions + EPS))\n",
        "        return loss"
      ]
    },
    {
      "cell_type": "markdown",
      "metadata": {
        "id": "T5IcgSNW4bUp"
      },
      "source": [
        "Теперь проверим работу вашего класса на синтетических данных."
      ]
    },
    {
      "cell_type": "code",
      "execution_count": 2,
      "metadata": {
        "colab": {
          "base_uri": "https://localhost:8080/"
        },
        "id": "lQpLZkqxVB9x",
        "outputId": "fdbdb600-ec96-4f7e-81dd-7016f0cad622"
      },
      "outputs": [
        {
          "name": "stdout",
          "output_type": "stream",
          "text": [
            "%pylab is deprecated, use %matplotlib inline and import the required libraries.\n",
            "Populating the interactive namespace from numpy and matplotlib\n"
          ]
        }
      ],
      "source": [
        "%pylab inline\n",
        "import pandas as pd\n",
        "\n",
        "from sklearn.datasets import make_classification\n",
        "from sklearn.model_selection import train_test_split\n",
        "from sklearn.linear_model import LogisticRegression"
      ]
    },
    {
      "cell_type": "code",
      "execution_count": 5,
      "metadata": {
        "id": "hOnxyTS7VB9y"
      },
      "outputs": [],
      "source": [
        "X, y = make_classification(\n",
        "    n_samples=100000, n_features=20, n_informative=10, n_redundant=10,\n",
        "    random_state=42)\n",
        "\n",
        "X_train, X_test, y_train, y_test = train_test_split(\n",
        "    X, y, test_size=0.3, random_state=42)"
      ]
    },
    {
      "cell_type": "markdown",
      "metadata": {
        "id": "WvXYeHFgVB9y"
      },
      "source": [
        "**Важно:** далее предполагается, что вы используете собственную реализацию логистической регрессии.\n",
        "Если с написанием класса возникли проблемы, используйте реализацию sklearn, чтобы не терять баллы за остальные задания."
      ]
    },
    {
      "cell_type": "markdown",
      "metadata": {
        "id": "F2b-BcRdVB9y"
      },
      "source": [
        "## **Задание 2 (0.5 балла)**\n",
        "\n",
        "Обучите логистическую регрессию на синтетических данных.\n",
        "\n",
        "На тестовой части посчитайте ROC-AUC, PR-AUC. Постройте ROC и PR кривые. Проинтерпретируйте результат."
      ]
    },
    {
      "cell_type": "code",
      "execution_count": 7,
      "metadata": {
        "ExecuteTime": {
          "end_time": "2018-10-11T20:39:43.088969Z",
          "start_time": "2018-10-11T20:39:43.084985Z"
        },
        "id": "xZ2whMm3VB9y"
      },
      "outputs": [],
      "source": [
        "from sklearn.preprocessing import StandardScaler\n",
        "\n",
        "scaler = StandardScaler()\n",
        "X_train = scaler.fit_transform(X_train)\n",
        "X_test = scaler.transform(X_test)"
      ]
    },
    {
      "cell_type": "code",
      "execution_count": 8,
      "metadata": {},
      "outputs": [
        {
          "data": {
            "text/html": [
              "<style>#sk-container-id-1 {\n",
              "  /* Definition of color scheme common for light and dark mode */\n",
              "  --sklearn-color-text: black;\n",
              "  --sklearn-color-line: gray;\n",
              "  /* Definition of color scheme for unfitted estimators */\n",
              "  --sklearn-color-unfitted-level-0: #fff5e6;\n",
              "  --sklearn-color-unfitted-level-1: #f6e4d2;\n",
              "  --sklearn-color-unfitted-level-2: #ffe0b3;\n",
              "  --sklearn-color-unfitted-level-3: chocolate;\n",
              "  /* Definition of color scheme for fitted estimators */\n",
              "  --sklearn-color-fitted-level-0: #f0f8ff;\n",
              "  --sklearn-color-fitted-level-1: #d4ebff;\n",
              "  --sklearn-color-fitted-level-2: #b3dbfd;\n",
              "  --sklearn-color-fitted-level-3: cornflowerblue;\n",
              "\n",
              "  /* Specific color for light theme */\n",
              "  --sklearn-color-text-on-default-background: var(--sg-text-color, var(--theme-code-foreground, var(--jp-content-font-color1, black)));\n",
              "  --sklearn-color-background: var(--sg-background-color, var(--theme-background, var(--jp-layout-color0, white)));\n",
              "  --sklearn-color-border-box: var(--sg-text-color, var(--theme-code-foreground, var(--jp-content-font-color1, black)));\n",
              "  --sklearn-color-icon: #696969;\n",
              "\n",
              "  @media (prefers-color-scheme: dark) {\n",
              "    /* Redefinition of color scheme for dark theme */\n",
              "    --sklearn-color-text-on-default-background: var(--sg-text-color, var(--theme-code-foreground, var(--jp-content-font-color1, white)));\n",
              "    --sklearn-color-background: var(--sg-background-color, var(--theme-background, var(--jp-layout-color0, #111)));\n",
              "    --sklearn-color-border-box: var(--sg-text-color, var(--theme-code-foreground, var(--jp-content-font-color1, white)));\n",
              "    --sklearn-color-icon: #878787;\n",
              "  }\n",
              "}\n",
              "\n",
              "#sk-container-id-1 {\n",
              "  color: var(--sklearn-color-text);\n",
              "}\n",
              "\n",
              "#sk-container-id-1 pre {\n",
              "  padding: 0;\n",
              "}\n",
              "\n",
              "#sk-container-id-1 input.sk-hidden--visually {\n",
              "  border: 0;\n",
              "  clip: rect(1px 1px 1px 1px);\n",
              "  clip: rect(1px, 1px, 1px, 1px);\n",
              "  height: 1px;\n",
              "  margin: -1px;\n",
              "  overflow: hidden;\n",
              "  padding: 0;\n",
              "  position: absolute;\n",
              "  width: 1px;\n",
              "}\n",
              "\n",
              "#sk-container-id-1 div.sk-dashed-wrapped {\n",
              "  border: 1px dashed var(--sklearn-color-line);\n",
              "  margin: 0 0.4em 0.5em 0.4em;\n",
              "  box-sizing: border-box;\n",
              "  padding-bottom: 0.4em;\n",
              "  background-color: var(--sklearn-color-background);\n",
              "}\n",
              "\n",
              "#sk-container-id-1 div.sk-container {\n",
              "  /* jupyter's `normalize.less` sets `[hidden] { display: none; }`\n",
              "     but bootstrap.min.css set `[hidden] { display: none !important; }`\n",
              "     so we also need the `!important` here to be able to override the\n",
              "     default hidden behavior on the sphinx rendered scikit-learn.org.\n",
              "     See: https://github.com/scikit-learn/scikit-learn/issues/21755 */\n",
              "  display: inline-block !important;\n",
              "  position: relative;\n",
              "}\n",
              "\n",
              "#sk-container-id-1 div.sk-text-repr-fallback {\n",
              "  display: none;\n",
              "}\n",
              "\n",
              "div.sk-parallel-item,\n",
              "div.sk-serial,\n",
              "div.sk-item {\n",
              "  /* draw centered vertical line to link estimators */\n",
              "  background-image: linear-gradient(var(--sklearn-color-text-on-default-background), var(--sklearn-color-text-on-default-background));\n",
              "  background-size: 2px 100%;\n",
              "  background-repeat: no-repeat;\n",
              "  background-position: center center;\n",
              "}\n",
              "\n",
              "/* Parallel-specific style estimator block */\n",
              "\n",
              "#sk-container-id-1 div.sk-parallel-item::after {\n",
              "  content: \"\";\n",
              "  width: 100%;\n",
              "  border-bottom: 2px solid var(--sklearn-color-text-on-default-background);\n",
              "  flex-grow: 1;\n",
              "}\n",
              "\n",
              "#sk-container-id-1 div.sk-parallel {\n",
              "  display: flex;\n",
              "  align-items: stretch;\n",
              "  justify-content: center;\n",
              "  background-color: var(--sklearn-color-background);\n",
              "  position: relative;\n",
              "}\n",
              "\n",
              "#sk-container-id-1 div.sk-parallel-item {\n",
              "  display: flex;\n",
              "  flex-direction: column;\n",
              "}\n",
              "\n",
              "#sk-container-id-1 div.sk-parallel-item:first-child::after {\n",
              "  align-self: flex-end;\n",
              "  width: 50%;\n",
              "}\n",
              "\n",
              "#sk-container-id-1 div.sk-parallel-item:last-child::after {\n",
              "  align-self: flex-start;\n",
              "  width: 50%;\n",
              "}\n",
              "\n",
              "#sk-container-id-1 div.sk-parallel-item:only-child::after {\n",
              "  width: 0;\n",
              "}\n",
              "\n",
              "/* Serial-specific style estimator block */\n",
              "\n",
              "#sk-container-id-1 div.sk-serial {\n",
              "  display: flex;\n",
              "  flex-direction: column;\n",
              "  align-items: center;\n",
              "  background-color: var(--sklearn-color-background);\n",
              "  padding-right: 1em;\n",
              "  padding-left: 1em;\n",
              "}\n",
              "\n",
              "\n",
              "/* Toggleable style: style used for estimator/Pipeline/ColumnTransformer box that is\n",
              "clickable and can be expanded/collapsed.\n",
              "- Pipeline and ColumnTransformer use this feature and define the default style\n",
              "- Estimators will overwrite some part of the style using the `sk-estimator` class\n",
              "*/\n",
              "\n",
              "/* Pipeline and ColumnTransformer style (default) */\n",
              "\n",
              "#sk-container-id-1 div.sk-toggleable {\n",
              "  /* Default theme specific background. It is overwritten whether we have a\n",
              "  specific estimator or a Pipeline/ColumnTransformer */\n",
              "  background-color: var(--sklearn-color-background);\n",
              "}\n",
              "\n",
              "/* Toggleable label */\n",
              "#sk-container-id-1 label.sk-toggleable__label {\n",
              "  cursor: pointer;\n",
              "  display: block;\n",
              "  width: 100%;\n",
              "  margin-bottom: 0;\n",
              "  padding: 0.5em;\n",
              "  box-sizing: border-box;\n",
              "  text-align: center;\n",
              "}\n",
              "\n",
              "#sk-container-id-1 label.sk-toggleable__label-arrow:before {\n",
              "  /* Arrow on the left of the label */\n",
              "  content: \"▸\";\n",
              "  float: left;\n",
              "  margin-right: 0.25em;\n",
              "  color: var(--sklearn-color-icon);\n",
              "}\n",
              "\n",
              "#sk-container-id-1 label.sk-toggleable__label-arrow:hover:before {\n",
              "  color: var(--sklearn-color-text);\n",
              "}\n",
              "\n",
              "/* Toggleable content - dropdown */\n",
              "\n",
              "#sk-container-id-1 div.sk-toggleable__content {\n",
              "  max-height: 0;\n",
              "  max-width: 0;\n",
              "  overflow: hidden;\n",
              "  text-align: left;\n",
              "  /* unfitted */\n",
              "  background-color: var(--sklearn-color-unfitted-level-0);\n",
              "}\n",
              "\n",
              "#sk-container-id-1 div.sk-toggleable__content.fitted {\n",
              "  /* fitted */\n",
              "  background-color: var(--sklearn-color-fitted-level-0);\n",
              "}\n",
              "\n",
              "#sk-container-id-1 div.sk-toggleable__content pre {\n",
              "  margin: 0.2em;\n",
              "  border-radius: 0.25em;\n",
              "  color: var(--sklearn-color-text);\n",
              "  /* unfitted */\n",
              "  background-color: var(--sklearn-color-unfitted-level-0);\n",
              "}\n",
              "\n",
              "#sk-container-id-1 div.sk-toggleable__content.fitted pre {\n",
              "  /* unfitted */\n",
              "  background-color: var(--sklearn-color-fitted-level-0);\n",
              "}\n",
              "\n",
              "#sk-container-id-1 input.sk-toggleable__control:checked~div.sk-toggleable__content {\n",
              "  /* Expand drop-down */\n",
              "  max-height: 200px;\n",
              "  max-width: 100%;\n",
              "  overflow: auto;\n",
              "}\n",
              "\n",
              "#sk-container-id-1 input.sk-toggleable__control:checked~label.sk-toggleable__label-arrow:before {\n",
              "  content: \"▾\";\n",
              "}\n",
              "\n",
              "/* Pipeline/ColumnTransformer-specific style */\n",
              "\n",
              "#sk-container-id-1 div.sk-label input.sk-toggleable__control:checked~label.sk-toggleable__label {\n",
              "  color: var(--sklearn-color-text);\n",
              "  background-color: var(--sklearn-color-unfitted-level-2);\n",
              "}\n",
              "\n",
              "#sk-container-id-1 div.sk-label.fitted input.sk-toggleable__control:checked~label.sk-toggleable__label {\n",
              "  background-color: var(--sklearn-color-fitted-level-2);\n",
              "}\n",
              "\n",
              "/* Estimator-specific style */\n",
              "\n",
              "/* Colorize estimator box */\n",
              "#sk-container-id-1 div.sk-estimator input.sk-toggleable__control:checked~label.sk-toggleable__label {\n",
              "  /* unfitted */\n",
              "  background-color: var(--sklearn-color-unfitted-level-2);\n",
              "}\n",
              "\n",
              "#sk-container-id-1 div.sk-estimator.fitted input.sk-toggleable__control:checked~label.sk-toggleable__label {\n",
              "  /* fitted */\n",
              "  background-color: var(--sklearn-color-fitted-level-2);\n",
              "}\n",
              "\n",
              "#sk-container-id-1 div.sk-label label.sk-toggleable__label,\n",
              "#sk-container-id-1 div.sk-label label {\n",
              "  /* The background is the default theme color */\n",
              "  color: var(--sklearn-color-text-on-default-background);\n",
              "}\n",
              "\n",
              "/* On hover, darken the color of the background */\n",
              "#sk-container-id-1 div.sk-label:hover label.sk-toggleable__label {\n",
              "  color: var(--sklearn-color-text);\n",
              "  background-color: var(--sklearn-color-unfitted-level-2);\n",
              "}\n",
              "\n",
              "/* Label box, darken color on hover, fitted */\n",
              "#sk-container-id-1 div.sk-label.fitted:hover label.sk-toggleable__label.fitted {\n",
              "  color: var(--sklearn-color-text);\n",
              "  background-color: var(--sklearn-color-fitted-level-2);\n",
              "}\n",
              "\n",
              "/* Estimator label */\n",
              "\n",
              "#sk-container-id-1 div.sk-label label {\n",
              "  font-family: monospace;\n",
              "  font-weight: bold;\n",
              "  display: inline-block;\n",
              "  line-height: 1.2em;\n",
              "}\n",
              "\n",
              "#sk-container-id-1 div.sk-label-container {\n",
              "  text-align: center;\n",
              "}\n",
              "\n",
              "/* Estimator-specific */\n",
              "#sk-container-id-1 div.sk-estimator {\n",
              "  font-family: monospace;\n",
              "  border: 1px dotted var(--sklearn-color-border-box);\n",
              "  border-radius: 0.25em;\n",
              "  box-sizing: border-box;\n",
              "  margin-bottom: 0.5em;\n",
              "  /* unfitted */\n",
              "  background-color: var(--sklearn-color-unfitted-level-0);\n",
              "}\n",
              "\n",
              "#sk-container-id-1 div.sk-estimator.fitted {\n",
              "  /* fitted */\n",
              "  background-color: var(--sklearn-color-fitted-level-0);\n",
              "}\n",
              "\n",
              "/* on hover */\n",
              "#sk-container-id-1 div.sk-estimator:hover {\n",
              "  /* unfitted */\n",
              "  background-color: var(--sklearn-color-unfitted-level-2);\n",
              "}\n",
              "\n",
              "#sk-container-id-1 div.sk-estimator.fitted:hover {\n",
              "  /* fitted */\n",
              "  background-color: var(--sklearn-color-fitted-level-2);\n",
              "}\n",
              "\n",
              "/* Specification for estimator info (e.g. \"i\" and \"?\") */\n",
              "\n",
              "/* Common style for \"i\" and \"?\" */\n",
              "\n",
              ".sk-estimator-doc-link,\n",
              "a:link.sk-estimator-doc-link,\n",
              "a:visited.sk-estimator-doc-link {\n",
              "  float: right;\n",
              "  font-size: smaller;\n",
              "  line-height: 1em;\n",
              "  font-family: monospace;\n",
              "  background-color: var(--sklearn-color-background);\n",
              "  border-radius: 1em;\n",
              "  height: 1em;\n",
              "  width: 1em;\n",
              "  text-decoration: none !important;\n",
              "  margin-left: 1ex;\n",
              "  /* unfitted */\n",
              "  border: var(--sklearn-color-unfitted-level-1) 1pt solid;\n",
              "  color: var(--sklearn-color-unfitted-level-1);\n",
              "}\n",
              "\n",
              ".sk-estimator-doc-link.fitted,\n",
              "a:link.sk-estimator-doc-link.fitted,\n",
              "a:visited.sk-estimator-doc-link.fitted {\n",
              "  /* fitted */\n",
              "  border: var(--sklearn-color-fitted-level-1) 1pt solid;\n",
              "  color: var(--sklearn-color-fitted-level-1);\n",
              "}\n",
              "\n",
              "/* On hover */\n",
              "div.sk-estimator:hover .sk-estimator-doc-link:hover,\n",
              ".sk-estimator-doc-link:hover,\n",
              "div.sk-label-container:hover .sk-estimator-doc-link:hover,\n",
              ".sk-estimator-doc-link:hover {\n",
              "  /* unfitted */\n",
              "  background-color: var(--sklearn-color-unfitted-level-3);\n",
              "  color: var(--sklearn-color-background);\n",
              "  text-decoration: none;\n",
              "}\n",
              "\n",
              "div.sk-estimator.fitted:hover .sk-estimator-doc-link.fitted:hover,\n",
              ".sk-estimator-doc-link.fitted:hover,\n",
              "div.sk-label-container:hover .sk-estimator-doc-link.fitted:hover,\n",
              ".sk-estimator-doc-link.fitted:hover {\n",
              "  /* fitted */\n",
              "  background-color: var(--sklearn-color-fitted-level-3);\n",
              "  color: var(--sklearn-color-background);\n",
              "  text-decoration: none;\n",
              "}\n",
              "\n",
              "/* Span, style for the box shown on hovering the info icon */\n",
              ".sk-estimator-doc-link span {\n",
              "  display: none;\n",
              "  z-index: 9999;\n",
              "  position: relative;\n",
              "  font-weight: normal;\n",
              "  right: .2ex;\n",
              "  padding: .5ex;\n",
              "  margin: .5ex;\n",
              "  width: min-content;\n",
              "  min-width: 20ex;\n",
              "  max-width: 50ex;\n",
              "  color: var(--sklearn-color-text);\n",
              "  box-shadow: 2pt 2pt 4pt #999;\n",
              "  /* unfitted */\n",
              "  background: var(--sklearn-color-unfitted-level-0);\n",
              "  border: .5pt solid var(--sklearn-color-unfitted-level-3);\n",
              "}\n",
              "\n",
              ".sk-estimator-doc-link.fitted span {\n",
              "  /* fitted */\n",
              "  background: var(--sklearn-color-fitted-level-0);\n",
              "  border: var(--sklearn-color-fitted-level-3);\n",
              "}\n",
              "\n",
              ".sk-estimator-doc-link:hover span {\n",
              "  display: block;\n",
              "}\n",
              "\n",
              "/* \"?\"-specific style due to the `<a>` HTML tag */\n",
              "\n",
              "#sk-container-id-1 a.estimator_doc_link {\n",
              "  float: right;\n",
              "  font-size: 1rem;\n",
              "  line-height: 1em;\n",
              "  font-family: monospace;\n",
              "  background-color: var(--sklearn-color-background);\n",
              "  border-radius: 1rem;\n",
              "  height: 1rem;\n",
              "  width: 1rem;\n",
              "  text-decoration: none;\n",
              "  /* unfitted */\n",
              "  color: var(--sklearn-color-unfitted-level-1);\n",
              "  border: var(--sklearn-color-unfitted-level-1) 1pt solid;\n",
              "}\n",
              "\n",
              "#sk-container-id-1 a.estimator_doc_link.fitted {\n",
              "  /* fitted */\n",
              "  border: var(--sklearn-color-fitted-level-1) 1pt solid;\n",
              "  color: var(--sklearn-color-fitted-level-1);\n",
              "}\n",
              "\n",
              "/* On hover */\n",
              "#sk-container-id-1 a.estimator_doc_link:hover {\n",
              "  /* unfitted */\n",
              "  background-color: var(--sklearn-color-unfitted-level-3);\n",
              "  color: var(--sklearn-color-background);\n",
              "  text-decoration: none;\n",
              "}\n",
              "\n",
              "#sk-container-id-1 a.estimator_doc_link.fitted:hover {\n",
              "  /* fitted */\n",
              "  background-color: var(--sklearn-color-fitted-level-3);\n",
              "}\n",
              "</style><div id=\"sk-container-id-1\" class=\"sk-top-container\"><div class=\"sk-text-repr-fallback\"><pre>LogReg(gd_type=&#x27;full&#x27;)</pre><b>In a Jupyter environment, please rerun this cell to show the HTML representation or trust the notebook. <br />On GitHub, the HTML representation is unable to render, please try loading this page with nbviewer.org.</b></div><div class=\"sk-container\" hidden><div class=\"sk-item\"><div class=\"sk-estimator  sk-toggleable\"><input class=\"sk-toggleable__control sk-hidden--visually\" id=\"sk-estimator-id-1\" type=\"checkbox\" checked><label for=\"sk-estimator-id-1\" class=\"sk-toggleable__label  sk-toggleable__label-arrow \">&nbsp;LogReg<span class=\"sk-estimator-doc-link \">i<span>Not fitted</span></span></label><div class=\"sk-toggleable__content \"><pre>LogReg(gd_type=&#x27;full&#x27;)</pre></div> </div></div></div></div>"
            ],
            "text/plain": [
              "LogReg(gd_type='full')"
            ]
          },
          "execution_count": 8,
          "metadata": {},
          "output_type": "execute_result"
        }
      ],
      "source": [
        "model = LogReg(gd_type='full', max_iter=1000, tolerance=1e-4, eta=0.01)\n",
        "model.fit(X_train, y_train)"
      ]
    },
    {
      "cell_type": "code",
      "execution_count": 10,
      "metadata": {},
      "outputs": [],
      "source": [
        "from sklearn.metrics import roc_auc_score, average_precision_score, roc_curve, precision_recall_curve\n",
        "\n",
        "y_probs = model.predict_proba(X_test)\n",
        "roc_auc = roc_auc_score(y_test, y_probs)\n",
        "pr_auc = average_precision_score(y_test, y_probs)\n",
        "fpr, tpr, _ = roc_curve(y_test, y_probs)"
      ]
    },
    {
      "cell_type": "code",
      "execution_count": 11,
      "metadata": {},
      "outputs": [
        {
          "name": "stdout",
          "output_type": "stream",
          "text": [
            "ROC AUC: 0.9237\n",
            "PR AUC: 0.9201\n"
          ]
        }
      ],
      "source": [
        "print(f\"ROC AUC: {roc_auc:.4f}\")\n",
        "print(f\"PR AUC: {pr_auc:.4f}\")"
      ]
    },
    {
      "cell_type": "code",
      "execution_count": 12,
      "metadata": {},
      "outputs": [
        {
          "data": {
            "image/png": "[encoded data removed]",
            "text/plain": [
              "<Figure size 1200x600 with 2 Axes>"
            ]
          },
          "metadata": {},
          "output_type": "display_data"
        }
      ],
      "source": [
        "plt.figure(figsize=(12, 6))\n",
        "\n",
        "plt.subplot(1, 2, 1)\n",
        "plt.plot(fpr, tpr, color='blue', label='ROC curve (area = %0.2f)' % roc_auc)\n",
        "plt.plot([0, 1], [0, 1], color='red', linestyle='--')\n",
        "plt.xlim([0.0, 1.0])\n",
        "plt.ylim([0.0, 1.0])\n",
        "plt.xlabel('False Positive Rate')\n",
        "plt.ylabel('True Positive Rate')\n",
        "plt.title('ROC Curve')\n",
        "plt.legend(loc='lower right')\n",
        "\n",
        "precision, recall, _ = precision_recall_curve(y_test, y_probs)\n",
        "\n",
        "plt.subplot(1, 2, 2)\n",
        "plt.plot(recall, precision, color='blue', label='PR curve (area = %0.2f)' % pr_auc)\n",
        "plt.xlabel('Recall')\n",
        "plt.ylabel('Precision')\n",
        "plt.title('Precision-Recall Curve')\n",
        "plt.legend(loc='lower left')\n",
        "\n",
        "plt.tight_layout()\n",
        "plt.show()\n",
        "\n"
      ]
    },
    {
      "cell_type": "markdown",
      "metadata": {},
      "source": [
        "# ROC AUC\n",
        "\n",
        "Значение 0.5 указывает на случайное угадывание, а значение 1.0 на идеальную классификацию.\n",
        "Значение 0.92 - значит классификация почти идеальная\n",
        "\n",
        "# PR AUC\n",
        "\n",
        "Значение. При нормальных значениях порог, например, 0.5 показывает хорошие результыаты."
      ]
    },
    {
      "cell_type": "markdown",
      "metadata": {
        "id": "55nqATc2VB91"
      },
      "source": [
        "# **Часть 2. Отбор признаков (5 баллов)**"
      ]
    },
    {
      "cell_type": "markdown",
      "metadata": {
        "id": "VshBXGNVVB91"
      },
      "source": [
        "Перейдём к еще одной важной части процесса работы с данными — отбору признаков. Он нужен в следующих случаях:\n",
        "- Мы хотим сократить время вычислений;\n",
        "- Мы хотим избежать переобучения;\n",
        "- Мы хотим попытаться улучшить качество модели за счет уменьшения признакового пространства;\n",
        "\n",
        "В этой части мы попробуем применить несколько подходов для отбора признаков и оценим, как они влияют на качество модели и сколько времени занимают."
      ]
    },
    {
      "cell_type": "markdown",
      "metadata": {
        "id": "bgUaF15SsO63"
      },
      "source": [
        "**Данные** \\\n",
        "\n",
        "Будем использовать датасет [об обращениях клиентов по страховым случаям](https://www.kaggle.com/competitions/porto-seguro-safe-driver-prediction/data?select=train.csv). Скачайте его с Kaggle (файл `train.csv`).\n",
        "\n",
        "Задача представляет собой бинарную классификациюю — воспользуется ли клиент страховкой на авто в ближайший год."
      ]
    },
    {
      "cell_type": "code",
      "execution_count": 68,
      "metadata": {
        "ExecuteTime": {
          "end_time": "2018-10-12T07:36:04.765536Z",
          "start_time": "2018-10-12T07:35:57.814973Z"
        },
        "id": "nR3Wje-lVB92"
      },
      "outputs": [],
      "source": [
        "PATH_TO_DATASET = \"./data/train.csv\"\n",
        "\n",
        "data = pd.read_csv(PATH_TO_DATASET, index_col=0)\n",
        "target = data.target.values\n",
        "\n",
        "data = data.drop('target', axis=1)\n",
        "\n",
        "X_train, X_test, y_train, y_test = train_test_split(data, target, test_size=0.2, random_state=124)"
      ]
    },
    {
      "cell_type": "code",
      "execution_count": 3,
      "metadata": {},
      "outputs": [
        {
          "data": {
            "text/plain": [
              "Index(['ps_ind_01', 'ps_ind_02_cat', 'ps_ind_03', 'ps_ind_04_cat',\n",
              "       'ps_ind_05_cat', 'ps_ind_06_bin', 'ps_ind_07_bin', 'ps_ind_08_bin',\n",
              "       'ps_ind_09_bin', 'ps_ind_10_bin', 'ps_ind_11_bin', 'ps_ind_12_bin',\n",
              "       'ps_ind_13_bin', 'ps_ind_14', 'ps_ind_15', 'ps_ind_16_bin',\n",
              "       'ps_ind_17_bin', 'ps_ind_18_bin', 'ps_reg_01', 'ps_reg_02', 'ps_reg_03',\n",
              "       'ps_car_01_cat', 'ps_car_02_cat', 'ps_car_03_cat', 'ps_car_04_cat',\n",
              "       'ps_car_05_cat', 'ps_car_06_cat', 'ps_car_07_cat', 'ps_car_08_cat',\n",
              "       'ps_car_09_cat', 'ps_car_10_cat', 'ps_car_11_cat', 'ps_car_11',\n",
              "       'ps_car_12', 'ps_car_13', 'ps_car_14', 'ps_car_15', 'ps_calc_01',\n",
              "       'ps_calc_02', 'ps_calc_03', 'ps_calc_04', 'ps_calc_05', 'ps_calc_06',\n",
              "       'ps_calc_07', 'ps_calc_08', 'ps_calc_09', 'ps_calc_10', 'ps_calc_11',\n",
              "       'ps_calc_12', 'ps_calc_13', 'ps_calc_14', 'ps_calc_15_bin',\n",
              "       'ps_calc_16_bin', 'ps_calc_17_bin', 'ps_calc_18_bin', 'ps_calc_19_bin',\n",
              "       'ps_calc_20_bin'],\n",
              "      dtype='object')"
            ]
          },
          "execution_count": 3,
          "metadata": {},
          "output_type": "execute_result"
        }
      ],
      "source": [
        "data.columns"
      ]
    },
    {
      "cell_type": "markdown",
      "metadata": {
        "id": "ftJ4Ii1UVB92"
      },
      "source": [
        "### **Задание 3. (0.25 балла)**\n",
        "\n",
        "Прежде всего — в данных много категориальных признаков.\n",
        "\n",
        "- Закодируйте их с помощью one-hot кодирования. Категориальные признаки отмечены постфиксом `cat`;\n",
        "- Исходные колонки с категориальными признаками удалите;\n",
        "- Зафиксируйте, сколько признаков получилось;"
      ]
    },
    {
      "cell_type": "code",
      "execution_count": 69,
      "metadata": {
        "id": "Q6R_Nk-3VB92"
      },
      "outputs": [
        {
          "name": "stdout",
          "output_type": "stream",
          "text": [
            "Количество признаков после one-hot кодирования: 213\n"
          ]
        }
      ],
      "source": [
        "cat_columns = [col for col in data.columns if col.endswith('_cat')]\n",
        "\n",
        "df_encoded = pd.get_dummies(data, columns=cat_columns, drop_first=True)\n",
        "\n",
        "num_features = df_encoded.shape[1]\n",
        "\n",
        "print(f'Количество признаков после one-hot кодирования: {num_features}')"
      ]
    },
    {
      "cell_type": "markdown",
      "metadata": {
        "id": "n7-48mjhVB92"
      },
      "source": [
        "### **Задание 4 (1 балл)**\n",
        "\n",
        "Обучим несколько моделей, перечисленных ниже. В качестве метрики будем использовать ROC-AUC.\n",
        "\n",
        "**Задание 4.1**\n",
        "\n",
        "- Обучите модель логистической регрессии. Замерьте скорость обучения модели\n",
        "- Обучите метод опорных векторов\n",
        "- Обучите метод k ближайших соседей\n",
        "- Посчитайте качество моделей (ROC-AUC) на тестовой выборке\n",
        "\n",
        "**Задание 4.2**\n",
        "\n",
        "Для каждой из трех моделей (логистическая регрессия, SVM, KNN) подберите при помощи GridSearchCV на тренировочных данных оптимальные гиперпараметры:\n",
        "- Для логистической регрессии: C, class_weight\n",
        "- Для SVM: C, kernel, class_weight\n",
        "- Для KNN: n_neighbors, weights\n",
        "\n",
        "Затем посчитайте качество моделей на тестовой выборке.\n",
        "\n",
        "В заданиях 4.1 и 4.2 замеряйте время обучения моделей.\n"
      ]
    },
    {
      "cell_type": "code",
      "execution_count": 21,
      "metadata": {},
      "outputs": [
        {
          "name": "stderr",
          "output_type": "stream",
          "text": [
            "/Users/akovel/anaconda3/envs/diploma/lib/python3.10/site-packages/sklearn/linear_model/_logistic.py:469: ConvergenceWarning: lbfgs failed to converge (status=1):\n",
            "STOP: TOTAL NO. of ITERATIONS REACHED LIMIT.\n",
            "\n",
            "Increase the number of iterations (max_iter) or scale the data as shown in:\n",
            "    https://scikit-learn.org/stable/modules/preprocessing.html\n",
            "Please also refer to the documentation for alternative solver options:\n",
            "    https://scikit-learn.org/stable/modules/linear_model.html#logistic-regression\n",
            "  n_iter_i = _check_optimize_result(\n",
            "/Users/akovel/anaconda3/envs/diploma/lib/python3.10/site-packages/sklearn/linear_model/_logistic.py:469: ConvergenceWarning: lbfgs failed to converge (status=1):\n",
            "STOP: TOTAL NO. of ITERATIONS REACHED LIMIT.\n",
            "\n",
            "Increase the number of iterations (max_iter) or scale the data as shown in:\n",
            "    https://scikit-learn.org/stable/modules/preprocessing.html\n",
            "Please also refer to the documentation for alternative solver options:\n",
            "    https://scikit-learn.org/stable/modules/linear_model.html#logistic-regression\n",
            "  n_iter_i = _check_optimize_result(\n",
            "/Users/akovel/anaconda3/envs/diploma/lib/python3.10/site-packages/sklearn/linear_model/_logistic.py:469: ConvergenceWarning: lbfgs failed to converge (status=1):\n",
            "STOP: TOTAL NO. of ITERATIONS REACHED LIMIT.\n",
            "\n",
            "Increase the number of iterations (max_iter) or scale the data as shown in:\n",
            "    https://scikit-learn.org/stable/modules/preprocessing.html\n",
            "Please also refer to the documentation for alternative solver options:\n",
            "    https://scikit-learn.org/stable/modules/linear_model.html#logistic-regression\n",
            "  n_iter_i = _check_optimize_result(\n",
            "/Users/akovel/anaconda3/envs/diploma/lib/python3.10/site-packages/sklearn/linear_model/_logistic.py:469: ConvergenceWarning: lbfgs failed to converge (status=1):\n",
            "STOP: TOTAL NO. of ITERATIONS REACHED LIMIT.\n",
            "\n",
            "Increase the number of iterations (max_iter) or scale the data as shown in:\n",
            "    https://scikit-learn.org/stable/modules/preprocessing.html\n",
            "Please also refer to the documentation for alternative solver options:\n",
            "    https://scikit-learn.org/stable/modules/linear_model.html#logistic-regression\n",
            "  n_iter_i = _check_optimize_result(\n",
            "/Users/akovel/anaconda3/envs/diploma/lib/python3.10/site-packages/sklearn/linear_model/_logistic.py:469: ConvergenceWarning: lbfgs failed to converge (status=1):\n",
            "STOP: TOTAL NO. of ITERATIONS REACHED LIMIT.\n",
            "\n",
            "Increase the number of iterations (max_iter) or scale the data as shown in:\n",
            "    https://scikit-learn.org/stable/modules/preprocessing.html\n",
            "Please also refer to the documentation for alternative solver options:\n",
            "    https://scikit-learn.org/stable/modules/linear_model.html#logistic-regression\n",
            "  n_iter_i = _check_optimize_result(\n",
            "/Users/akovel/anaconda3/envs/diploma/lib/python3.10/site-packages/sklearn/linear_model/_logistic.py:469: ConvergenceWarning: lbfgs failed to converge (status=1):\n",
            "STOP: TOTAL NO. of ITERATIONS REACHED LIMIT.\n",
            "\n",
            "Increase the number of iterations (max_iter) or scale the data as shown in:\n",
            "    https://scikit-learn.org/stable/modules/preprocessing.html\n",
            "Please also refer to the documentation for alternative solver options:\n",
            "    https://scikit-learn.org/stable/modules/linear_model.html#logistic-regression\n",
            "  n_iter_i = _check_optimize_result(\n",
            "/Users/akovel/anaconda3/envs/diploma/lib/python3.10/site-packages/sklearn/linear_model/_logistic.py:469: ConvergenceWarning: lbfgs failed to converge (status=1):\n",
            "STOP: TOTAL NO. of ITERATIONS REACHED LIMIT.\n",
            "\n",
            "Increase the number of iterations (max_iter) or scale the data as shown in:\n",
            "    https://scikit-learn.org/stable/modules/preprocessing.html\n",
            "Please also refer to the documentation for alternative solver options:\n",
            "    https://scikit-learn.org/stable/modules/linear_model.html#logistic-regression\n",
            "  n_iter_i = _check_optimize_result(\n",
            "/Users/akovel/anaconda3/envs/diploma/lib/python3.10/site-packages/sklearn/linear_model/_logistic.py:469: ConvergenceWarning: lbfgs failed to converge (status=1):\n",
            "STOP: TOTAL NO. of ITERATIONS REACHED LIMIT.\n",
            "\n",
            "Increase the number of iterations (max_iter) or scale the data as shown in:\n",
            "    https://scikit-learn.org/stable/modules/preprocessing.html\n",
            "Please also refer to the documentation for alternative solver options:\n",
            "    https://scikit-learn.org/stable/modules/linear_model.html#logistic-regression\n",
            "  n_iter_i = _check_optimize_result(\n",
            "/Users/akovel/anaconda3/envs/diploma/lib/python3.10/site-packages/sklearn/linear_model/_logistic.py:469: ConvergenceWarning: lbfgs failed to converge (status=1):\n",
            "STOP: TOTAL NO. of ITERATIONS REACHED LIMIT.\n",
            "\n",
            "Increase the number of iterations (max_iter) or scale the data as shown in:\n",
            "    https://scikit-learn.org/stable/modules/preprocessing.html\n",
            "Please also refer to the documentation for alternative solver options:\n",
            "    https://scikit-learn.org/stable/modules/linear_model.html#logistic-regression\n",
            "  n_iter_i = _check_optimize_result(\n",
            "/Users/akovel/anaconda3/envs/diploma/lib/python3.10/site-packages/sklearn/linear_model/_logistic.py:469: ConvergenceWarning: lbfgs failed to converge (status=1):\n",
            "STOP: TOTAL NO. of ITERATIONS REACHED LIMIT.\n",
            "\n",
            "Increase the number of iterations (max_iter) or scale the data as shown in:\n",
            "    https://scikit-learn.org/stable/modules/preprocessing.html\n",
            "Please also refer to the documentation for alternative solver options:\n",
            "    https://scikit-learn.org/stable/modules/linear_model.html#logistic-regression\n",
            "  n_iter_i = _check_optimize_result(\n",
            "/Users/akovel/anaconda3/envs/diploma/lib/python3.10/site-packages/sklearn/linear_model/_logistic.py:469: ConvergenceWarning: lbfgs failed to converge (status=1):\n",
            "STOP: TOTAL NO. of ITERATIONS REACHED LIMIT.\n",
            "\n",
            "Increase the number of iterations (max_iter) or scale the data as shown in:\n",
            "    https://scikit-learn.org/stable/modules/preprocessing.html\n",
            "Please also refer to the documentation for alternative solver options:\n",
            "    https://scikit-learn.org/stable/modules/linear_model.html#logistic-regression\n",
            "  n_iter_i = _check_optimize_result(\n",
            "/Users/akovel/anaconda3/envs/diploma/lib/python3.10/site-packages/sklearn/linear_model/_logistic.py:469: ConvergenceWarning: lbfgs failed to converge (status=1):\n",
            "STOP: TOTAL NO. of ITERATIONS REACHED LIMIT.\n",
            "\n",
            "Increase the number of iterations (max_iter) or scale the data as shown in:\n",
            "    https://scikit-learn.org/stable/modules/preprocessing.html\n",
            "Please also refer to the documentation for alternative solver options:\n",
            "    https://scikit-learn.org/stable/modules/linear_model.html#logistic-regression\n",
            "  n_iter_i = _check_optimize_result(\n",
            "/Users/akovel/anaconda3/envs/diploma/lib/python3.10/site-packages/sklearn/linear_model/_logistic.py:469: ConvergenceWarning: lbfgs failed to converge (status=1):\n",
            "STOP: TOTAL NO. of ITERATIONS REACHED LIMIT.\n",
            "\n",
            "Increase the number of iterations (max_iter) or scale the data as shown in:\n",
            "    https://scikit-learn.org/stable/modules/preprocessing.html\n",
            "Please also refer to the documentation for alternative solver options:\n",
            "    https://scikit-learn.org/stable/modules/linear_model.html#logistic-regression\n",
            "  n_iter_i = _check_optimize_result(\n",
            "/Users/akovel/anaconda3/envs/diploma/lib/python3.10/site-packages/sklearn/linear_model/_logistic.py:469: ConvergenceWarning: lbfgs failed to converge (status=1):\n",
            "STOP: TOTAL NO. of ITERATIONS REACHED LIMIT.\n",
            "\n",
            "Increase the number of iterations (max_iter) or scale the data as shown in:\n",
            "    https://scikit-learn.org/stable/modules/preprocessing.html\n",
            "Please also refer to the documentation for alternative solver options:\n",
            "    https://scikit-learn.org/stable/modules/linear_model.html#logistic-regression\n",
            "  n_iter_i = _check_optimize_result(\n",
            "/Users/akovel/anaconda3/envs/diploma/lib/python3.10/site-packages/sklearn/linear_model/_logistic.py:469: ConvergenceWarning: lbfgs failed to converge (status=1):\n",
            "STOP: TOTAL NO. of ITERATIONS REACHED LIMIT.\n",
            "\n",
            "Increase the number of iterations (max_iter) or scale the data as shown in:\n",
            "    https://scikit-learn.org/stable/modules/preprocessing.html\n",
            "Please also refer to the documentation for alternative solver options:\n",
            "    https://scikit-learn.org/stable/modules/linear_model.html#logistic-regression\n",
            "  n_iter_i = _check_optimize_result(\n",
            "/Users/akovel/anaconda3/envs/diploma/lib/python3.10/site-packages/sklearn/linear_model/_logistic.py:469: ConvergenceWarning: lbfgs failed to converge (status=1):\n",
            "STOP: TOTAL NO. of ITERATIONS REACHED LIMIT.\n",
            "\n",
            "Increase the number of iterations (max_iter) or scale the data as shown in:\n",
            "    https://scikit-learn.org/stable/modules/preprocessing.html\n",
            "Please also refer to the documentation for alternative solver options:\n",
            "    https://scikit-learn.org/stable/modules/linear_model.html#logistic-regression\n",
            "  n_iter_i = _check_optimize_result(\n",
            "/Users/akovel/anaconda3/envs/diploma/lib/python3.10/site-packages/sklearn/linear_model/_logistic.py:469: ConvergenceWarning: lbfgs failed to converge (status=1):\n",
            "STOP: TOTAL NO. of ITERATIONS REACHED LIMIT.\n",
            "\n",
            "Increase the number of iterations (max_iter) or scale the data as shown in:\n",
            "    https://scikit-learn.org/stable/modules/preprocessing.html\n",
            "Please also refer to the documentation for alternative solver options:\n",
            "    https://scikit-learn.org/stable/modules/linear_model.html#logistic-regression\n",
            "  n_iter_i = _check_optimize_result(\n",
            "/Users/akovel/anaconda3/envs/diploma/lib/python3.10/site-packages/sklearn/linear_model/_logistic.py:469: ConvergenceWarning: lbfgs failed to converge (status=1):\n",
            "STOP: TOTAL NO. of ITERATIONS REACHED LIMIT.\n",
            "\n",
            "Increase the number of iterations (max_iter) or scale the data as shown in:\n",
            "    https://scikit-learn.org/stable/modules/preprocessing.html\n",
            "Please also refer to the documentation for alternative solver options:\n",
            "    https://scikit-learn.org/stable/modules/linear_model.html#logistic-regression\n",
            "  n_iter_i = _check_optimize_result(\n",
            "/Users/akovel/anaconda3/envs/diploma/lib/python3.10/site-packages/sklearn/linear_model/_logistic.py:469: ConvergenceWarning: lbfgs failed to converge (status=1):\n",
            "STOP: TOTAL NO. of ITERATIONS REACHED LIMIT.\n",
            "\n",
            "Increase the number of iterations (max_iter) or scale the data as shown in:\n",
            "    https://scikit-learn.org/stable/modules/preprocessing.html\n",
            "Please also refer to the documentation for alternative solver options:\n",
            "    https://scikit-learn.org/stable/modules/linear_model.html#logistic-regression\n",
            "  n_iter_i = _check_optimize_result(\n",
            "/Users/akovel/anaconda3/envs/diploma/lib/python3.10/site-packages/sklearn/linear_model/_logistic.py:469: ConvergenceWarning: lbfgs failed to converge (status=1):\n",
            "STOP: TOTAL NO. of ITERATIONS REACHED LIMIT.\n",
            "\n",
            "Increase the number of iterations (max_iter) or scale the data as shown in:\n",
            "    https://scikit-learn.org/stable/modules/preprocessing.html\n",
            "Please also refer to the documentation for alternative solver options:\n",
            "    https://scikit-learn.org/stable/modules/linear_model.html#logistic-regression\n",
            "  n_iter_i = _check_optimize_result(\n",
            "/Users/akovel/anaconda3/envs/diploma/lib/python3.10/site-packages/sklearn/linear_model/_logistic.py:469: ConvergenceWarning: lbfgs failed to converge (status=1):\n",
            "STOP: TOTAL NO. of ITERATIONS REACHED LIMIT.\n",
            "\n",
            "Increase the number of iterations (max_iter) or scale the data as shown in:\n",
            "    https://scikit-learn.org/stable/modules/preprocessing.html\n",
            "Please also refer to the documentation for alternative solver options:\n",
            "    https://scikit-learn.org/stable/modules/linear_model.html#logistic-regression\n",
            "  n_iter_i = _check_optimize_result(\n",
            "/Users/akovel/anaconda3/envs/diploma/lib/python3.10/site-packages/sklearn/linear_model/_logistic.py:469: ConvergenceWarning: lbfgs failed to converge (status=1):\n",
            "STOP: TOTAL NO. of ITERATIONS REACHED LIMIT.\n",
            "\n",
            "Increase the number of iterations (max_iter) or scale the data as shown in:\n",
            "    https://scikit-learn.org/stable/modules/preprocessing.html\n",
            "Please also refer to the documentation for alternative solver options:\n",
            "    https://scikit-learn.org/stable/modules/linear_model.html#logistic-regression\n",
            "  n_iter_i = _check_optimize_result(\n",
            "/Users/akovel/anaconda3/envs/diploma/lib/python3.10/site-packages/sklearn/linear_model/_logistic.py:469: ConvergenceWarning: lbfgs failed to converge (status=1):\n",
            "STOP: TOTAL NO. of ITERATIONS REACHED LIMIT.\n",
            "\n",
            "Increase the number of iterations (max_iter) or scale the data as shown in:\n",
            "    https://scikit-learn.org/stable/modules/preprocessing.html\n",
            "Please also refer to the documentation for alternative solver options:\n",
            "    https://scikit-learn.org/stable/modules/linear_model.html#logistic-regression\n",
            "  n_iter_i = _check_optimize_result(\n",
            "/Users/akovel/anaconda3/envs/diploma/lib/python3.10/site-packages/sklearn/linear_model/_logistic.py:469: ConvergenceWarning: lbfgs failed to converge (status=1):\n",
            "STOP: TOTAL NO. of ITERATIONS REACHED LIMIT.\n",
            "\n",
            "Increase the number of iterations (max_iter) or scale the data as shown in:\n",
            "    https://scikit-learn.org/stable/modules/preprocessing.html\n",
            "Please also refer to the documentation for alternative solver options:\n",
            "    https://scikit-learn.org/stable/modules/linear_model.html#logistic-regression\n",
            "  n_iter_i = _check_optimize_result(\n",
            "/Users/akovel/anaconda3/envs/diploma/lib/python3.10/site-packages/sklearn/linear_model/_logistic.py:469: ConvergenceWarning: lbfgs failed to converge (status=1):\n",
            "STOP: TOTAL NO. of ITERATIONS REACHED LIMIT.\n",
            "\n",
            "Increase the number of iterations (max_iter) or scale the data as shown in:\n",
            "    https://scikit-learn.org/stable/modules/preprocessing.html\n",
            "Please also refer to the documentation for alternative solver options:\n",
            "    https://scikit-learn.org/stable/modules/linear_model.html#logistic-regression\n",
            "  n_iter_i = _check_optimize_result(\n",
            "/Users/akovel/anaconda3/envs/diploma/lib/python3.10/site-packages/sklearn/linear_model/_logistic.py:469: ConvergenceWarning: lbfgs failed to converge (status=1):\n",
            "STOP: TOTAL NO. of ITERATIONS REACHED LIMIT.\n",
            "\n",
            "Increase the number of iterations (max_iter) or scale the data as shown in:\n",
            "    https://scikit-learn.org/stable/modules/preprocessing.html\n",
            "Please also refer to the documentation for alternative solver options:\n",
            "    https://scikit-learn.org/stable/modules/linear_model.html#logistic-regression\n",
            "  n_iter_i = _check_optimize_result(\n",
            "/Users/akovel/anaconda3/envs/diploma/lib/python3.10/site-packages/sklearn/linear_model/_logistic.py:469: ConvergenceWarning: lbfgs failed to converge (status=1):\n",
            "STOP: TOTAL NO. of ITERATIONS REACHED LIMIT.\n",
            "\n",
            "Increase the number of iterations (max_iter) or scale the data as shown in:\n",
            "    https://scikit-learn.org/stable/modules/preprocessing.html\n",
            "Please also refer to the documentation for alternative solver options:\n",
            "    https://scikit-learn.org/stable/modules/linear_model.html#logistic-regression\n",
            "  n_iter_i = _check_optimize_result(\n",
            "/Users/akovel/anaconda3/envs/diploma/lib/python3.10/site-packages/sklearn/linear_model/_logistic.py:469: ConvergenceWarning: lbfgs failed to converge (status=1):\n",
            "STOP: TOTAL NO. of ITERATIONS REACHED LIMIT.\n",
            "\n",
            "Increase the number of iterations (max_iter) or scale the data as shown in:\n",
            "    https://scikit-learn.org/stable/modules/preprocessing.html\n",
            "Please also refer to the documentation for alternative solver options:\n",
            "    https://scikit-learn.org/stable/modules/linear_model.html#logistic-regression\n",
            "  n_iter_i = _check_optimize_result(\n",
            "/Users/akovel/anaconda3/envs/diploma/lib/python3.10/site-packages/sklearn/linear_model/_logistic.py:469: ConvergenceWarning: lbfgs failed to converge (status=1):\n",
            "STOP: TOTAL NO. of ITERATIONS REACHED LIMIT.\n",
            "\n",
            "Increase the number of iterations (max_iter) or scale the data as shown in:\n",
            "    https://scikit-learn.org/stable/modules/preprocessing.html\n",
            "Please also refer to the documentation for alternative solver options:\n",
            "    https://scikit-learn.org/stable/modules/linear_model.html#logistic-regression\n",
            "  n_iter_i = _check_optimize_result(\n",
            "/Users/akovel/anaconda3/envs/diploma/lib/python3.10/site-packages/sklearn/linear_model/_logistic.py:469: ConvergenceWarning: lbfgs failed to converge (status=1):\n",
            "STOP: TOTAL NO. of ITERATIONS REACHED LIMIT.\n",
            "\n",
            "Increase the number of iterations (max_iter) or scale the data as shown in:\n",
            "    https://scikit-learn.org/stable/modules/preprocessing.html\n",
            "Please also refer to the documentation for alternative solver options:\n",
            "    https://scikit-learn.org/stable/modules/linear_model.html#logistic-regression\n",
            "  n_iter_i = _check_optimize_result(\n",
            "/Users/akovel/anaconda3/envs/diploma/lib/python3.10/site-packages/sklearn/linear_model/_logistic.py:469: ConvergenceWarning: lbfgs failed to converge (status=1):\n",
            "STOP: TOTAL NO. of ITERATIONS REACHED LIMIT.\n",
            "\n",
            "Increase the number of iterations (max_iter) or scale the data as shown in:\n",
            "    https://scikit-learn.org/stable/modules/preprocessing.html\n",
            "Please also refer to the documentation for alternative solver options:\n",
            "    https://scikit-learn.org/stable/modules/linear_model.html#logistic-regression\n",
            "  n_iter_i = _check_optimize_result(\n"
          ]
        }
      ],
      "source": [
        "from sklearn.model_selection import GridSearchCV\n",
        "\n",
        "log_reg_params = {\n",
        "    'C': [0.001,0.01,0.1,1,10],\n",
        "    'class_weight': [None, 'balanced']\n",
        "}\n",
        "log_reg_grid = GridSearchCV(LogisticRegression(), log_reg_params, scoring='roc_auc', cv=3)\n",
        "start_time = time.time()\n",
        "log_reg_grid.fit(X_train, y_train)\n",
        "log_reg_grid_time = time.time() - start_time\n",
        "log_reg_best_auc = log_reg_grid.best_score_\n",
        "log_reg_best_params = log_reg_grid.best_params_\n",
        "\n",
        "log_reg_best = log_reg_grid.best_estimator_\n",
        "log_reg_best_preds = log_reg_best.predict_proba(X_test)[:, 1]\n",
        "log_reg_test_auc = roc_auc_score(y_test, log_reg_best_preds)"
      ]
    },
    {
      "cell_type": "code",
      "execution_count": 23,
      "metadata": {},
      "outputs": [
        {
          "name": "stdout",
          "output_type": "stream",
          "text": [
            "Логистическая регрессия: AUC на тренировочных данных = 0.6195, Тестовое AUC = 0.6269, Лучшие параметры = {'C': 0.01, 'class_weight': 'balanced'}, Время GridSearch = 265.8174 сек\n"
          ]
        }
      ],
      "source": [
        "print(f'Логистическая регрессия: AUC на тренировочных данных = {log_reg_best_auc:.4f}, '\n",
        "      f'Тестовое AUC = {log_reg_test_auc:.4f}, '\n",
        "      f'Лучшие параметры = {log_reg_best_params}, '\n",
        "      f'Время GridSearch = {log_reg_grid_time:.4f} сек')"
      ]
    },
    {
      "cell_type": "code",
      "execution_count": 4,
      "metadata": {},
      "outputs": [
        {
          "name": "stdout",
          "output_type": "stream",
          "text": [
            "Fitting 2 folds for each of 8 candidates, totalling 16 fits\n"
          ]
        },
        {
          "name": "stderr",
          "output_type": "stream",
          "text": [
            "/Users/akovel/anaconda3/envs/diploma/lib/python3.10/site-packages/sklearn/svm/_base.py:297: ConvergenceWarning: Solver terminated early (max_iter=100).  Consider pre-processing your data with StandardScaler or MinMaxScaler.\n",
            "  warnings.warn(\n"
          ]
        },
        {
          "name": "stdout",
          "output_type": "stream",
          "text": [
            "[CV 1/2] END C=0.01, class_weight=None, kernel=linear;, score=0.538 total time=  24.6s\n"
          ]
        },
        {
          "name": "stderr",
          "output_type": "stream",
          "text": [
            "/Users/akovel/anaconda3/envs/diploma/lib/python3.10/site-packages/sklearn/svm/_base.py:297: ConvergenceWarning: Solver terminated early (max_iter=100).  Consider pre-processing your data with StandardScaler or MinMaxScaler.\n",
            "  warnings.warn(\n"
          ]
        },
        {
          "name": "stdout",
          "output_type": "stream",
          "text": [
            "[CV 2/2] END C=0.01, class_weight=None, kernel=linear;, score=0.502 total time=  26.0s\n"
          ]
        },
        {
          "name": "stderr",
          "output_type": "stream",
          "text": [
            "/Users/akovel/anaconda3/envs/diploma/lib/python3.10/site-packages/sklearn/svm/_base.py:297: ConvergenceWarning: Solver terminated early (max_iter=100).  Consider pre-processing your data with StandardScaler or MinMaxScaler.\n",
            "  warnings.warn(\n"
          ]
        },
        {
          "name": "stdout",
          "output_type": "stream",
          "text": [
            "[CV 1/2] END C=0.01, class_weight=None, kernel=rbf;, score=0.508 total time=  35.2s\n"
          ]
        },
        {
          "name": "stderr",
          "output_type": "stream",
          "text": [
            "/Users/akovel/anaconda3/envs/diploma/lib/python3.10/site-packages/sklearn/svm/_base.py:297: ConvergenceWarning: Solver terminated early (max_iter=100).  Consider pre-processing your data with StandardScaler or MinMaxScaler.\n",
            "  warnings.warn(\n"
          ]
        },
        {
          "name": "stdout",
          "output_type": "stream",
          "text": [
            "[CV 2/2] END C=0.01, class_weight=None, kernel=rbf;, score=0.493 total time=  33.9s\n"
          ]
        },
        {
          "name": "stderr",
          "output_type": "stream",
          "text": [
            "/Users/akovel/anaconda3/envs/diploma/lib/python3.10/site-packages/sklearn/svm/_base.py:297: ConvergenceWarning: Solver terminated early (max_iter=100).  Consider pre-processing your data with StandardScaler or MinMaxScaler.\n",
            "  warnings.warn(\n"
          ]
        },
        {
          "name": "stdout",
          "output_type": "stream",
          "text": [
            "[CV 1/2] END C=0.01, class_weight=balanced, kernel=linear;, score=0.495 total time=  24.0s\n"
          ]
        },
        {
          "name": "stderr",
          "output_type": "stream",
          "text": [
            "/Users/akovel/anaconda3/envs/diploma/lib/python3.10/site-packages/sklearn/svm/_base.py:297: ConvergenceWarning: Solver terminated early (max_iter=100).  Consider pre-processing your data with StandardScaler or MinMaxScaler.\n",
            "  warnings.warn(\n"
          ]
        },
        {
          "name": "stdout",
          "output_type": "stream",
          "text": [
            "[CV 2/2] END C=0.01, class_weight=balanced, kernel=linear;, score=0.502 total time=  25.3s\n"
          ]
        },
        {
          "name": "stderr",
          "output_type": "stream",
          "text": [
            "/Users/akovel/anaconda3/envs/diploma/lib/python3.10/site-packages/sklearn/svm/_base.py:297: ConvergenceWarning: Solver terminated early (max_iter=100).  Consider pre-processing your data with StandardScaler or MinMaxScaler.\n",
            "  warnings.warn(\n"
          ]
        },
        {
          "name": "stdout",
          "output_type": "stream",
          "text": [
            "[CV 1/2] END C=0.01, class_weight=balanced, kernel=rbf;, score=0.504 total time=  32.8s\n"
          ]
        },
        {
          "name": "stderr",
          "output_type": "stream",
          "text": [
            "/Users/akovel/anaconda3/envs/diploma/lib/python3.10/site-packages/sklearn/svm/_base.py:297: ConvergenceWarning: Solver terminated early (max_iter=100).  Consider pre-processing your data with StandardScaler or MinMaxScaler.\n",
            "  warnings.warn(\n"
          ]
        },
        {
          "name": "stdout",
          "output_type": "stream",
          "text": [
            "[CV 2/2] END C=0.01, class_weight=balanced, kernel=rbf;, score=0.502 total time=  32.5s\n"
          ]
        },
        {
          "name": "stderr",
          "output_type": "stream",
          "text": [
            "/Users/akovel/anaconda3/envs/diploma/lib/python3.10/site-packages/sklearn/svm/_base.py:297: ConvergenceWarning: Solver terminated early (max_iter=100).  Consider pre-processing your data with StandardScaler or MinMaxScaler.\n",
            "  warnings.warn(\n"
          ]
        },
        {
          "name": "stdout",
          "output_type": "stream",
          "text": [
            "[CV 1/2] END C=0.1, class_weight=None, kernel=linear;, score=0.517 total time=  26.4s\n"
          ]
        },
        {
          "name": "stderr",
          "output_type": "stream",
          "text": [
            "/Users/akovel/anaconda3/envs/diploma/lib/python3.10/site-packages/sklearn/svm/_base.py:297: ConvergenceWarning: Solver terminated early (max_iter=100).  Consider pre-processing your data with StandardScaler or MinMaxScaler.\n",
            "  warnings.warn(\n"
          ]
        },
        {
          "name": "stdout",
          "output_type": "stream",
          "text": [
            "[CV 2/2] END C=0.1, class_weight=None, kernel=linear;, score=0.506 total time=  26.2s\n"
          ]
        },
        {
          "name": "stderr",
          "output_type": "stream",
          "text": [
            "/Users/akovel/anaconda3/envs/diploma/lib/python3.10/site-packages/sklearn/svm/_base.py:297: ConvergenceWarning: Solver terminated early (max_iter=100).  Consider pre-processing your data with StandardScaler or MinMaxScaler.\n",
            "  warnings.warn(\n"
          ]
        },
        {
          "name": "stdout",
          "output_type": "stream",
          "text": [
            "[CV 1/2] END C=0.1, class_weight=None, kernel=rbf;, score=0.508 total time=  32.9s\n"
          ]
        },
        {
          "name": "stderr",
          "output_type": "stream",
          "text": [
            "/Users/akovel/anaconda3/envs/diploma/lib/python3.10/site-packages/sklearn/svm/_base.py:297: ConvergenceWarning: Solver terminated early (max_iter=100).  Consider pre-processing your data with StandardScaler or MinMaxScaler.\n",
            "  warnings.warn(\n"
          ]
        },
        {
          "name": "stdout",
          "output_type": "stream",
          "text": [
            "[CV 2/2] END C=0.1, class_weight=None, kernel=rbf;, score=0.493 total time=  34.3s\n"
          ]
        },
        {
          "name": "stderr",
          "output_type": "stream",
          "text": [
            "/Users/akovel/anaconda3/envs/diploma/lib/python3.10/site-packages/sklearn/svm/_base.py:297: ConvergenceWarning: Solver terminated early (max_iter=100).  Consider pre-processing your data with StandardScaler or MinMaxScaler.\n",
            "  warnings.warn(\n"
          ]
        },
        {
          "name": "stdout",
          "output_type": "stream",
          "text": [
            "[CV 1/2] END C=0.1, class_weight=balanced, kernel=linear;, score=0.489 total time=  24.0s\n"
          ]
        },
        {
          "name": "stderr",
          "output_type": "stream",
          "text": [
            "/Users/akovel/anaconda3/envs/diploma/lib/python3.10/site-packages/sklearn/svm/_base.py:297: ConvergenceWarning: Solver terminated early (max_iter=100).  Consider pre-processing your data with StandardScaler or MinMaxScaler.\n",
            "  warnings.warn(\n"
          ]
        },
        {
          "name": "stdout",
          "output_type": "stream",
          "text": [
            "[CV 2/2] END C=0.1, class_weight=balanced, kernel=linear;, score=0.516 total time=  26.0s\n"
          ]
        },
        {
          "name": "stderr",
          "output_type": "stream",
          "text": [
            "/Users/akovel/anaconda3/envs/diploma/lib/python3.10/site-packages/sklearn/svm/_base.py:297: ConvergenceWarning: Solver terminated early (max_iter=100).  Consider pre-processing your data with StandardScaler or MinMaxScaler.\n",
            "  warnings.warn(\n"
          ]
        },
        {
          "name": "stdout",
          "output_type": "stream",
          "text": [
            "[CV 1/2] END C=0.1, class_weight=balanced, kernel=rbf;, score=0.504 total time=  33.8s\n"
          ]
        },
        {
          "name": "stderr",
          "output_type": "stream",
          "text": [
            "/Users/akovel/anaconda3/envs/diploma/lib/python3.10/site-packages/sklearn/svm/_base.py:297: ConvergenceWarning: Solver terminated early (max_iter=100).  Consider pre-processing your data with StandardScaler or MinMaxScaler.\n",
            "  warnings.warn(\n"
          ]
        },
        {
          "name": "stdout",
          "output_type": "stream",
          "text": [
            "[CV 2/2] END C=0.1, class_weight=balanced, kernel=rbf;, score=0.502 total time=  31.6s\n"
          ]
        },
        {
          "name": "stderr",
          "output_type": "stream",
          "text": [
            "/Users/akovel/anaconda3/envs/diploma/lib/python3.10/site-packages/sklearn/svm/_base.py:297: ConvergenceWarning: Solver terminated early (max_iter=100).  Consider pre-processing your data with StandardScaler or MinMaxScaler.\n",
            "  warnings.warn(\n"
          ]
        },
        {
          "ename": "NameError",
          "evalue": "name 'roc_auc_score' is not defined",
          "output_type": "error",
          "traceback": [
            "\u001b[0;31m---------------------------------------------------------------------------\u001b[0m",
            "\u001b[0;31mNameError\u001b[0m                                 Traceback (most recent call last)",
            "Cell \u001b[0;32mIn[4], line 18\u001b[0m\n\u001b[1;32m     16\u001b[0m svm_best \u001b[39m=\u001b[39m svm_grid\u001b[39m.\u001b[39mbest_estimator_\n\u001b[1;32m     17\u001b[0m svm_best_preds \u001b[39m=\u001b[39m svm_best\u001b[39m.\u001b[39mpredict_proba(X_test)[:, \u001b[39m1\u001b[39m]\n\u001b[0;32m---> 18\u001b[0m svm_test_auc \u001b[39m=\u001b[39m roc_auc_score(y_test, svm_best_preds)\n",
            "\u001b[0;31mNameError\u001b[0m: name 'roc_auc_score' is not defined"
          ]
        }
      ],
      "source": [
        "from sklearn.svm import LinearSVC, SVC\n",
        "from sklearn.model_selection import GridSearchCV\n",
        "\n",
        "svm_params = {\n",
        "    'C': [0.01,0.1],\n",
        "    'kernel': ['linear', 'rbf'],\n",
        "    'class_weight': [None, 'balanced']\n",
        "}\n",
        "svm_grid = GridSearchCV(SVC(probability=True, max_iter=100), svm_params, scoring='roc_auc', cv=2, verbose=3)\n",
        "start_time = time.time()\n",
        "svm_grid.fit(X_train, y_train)\n",
        "svm_grid_time = time.time() - start_time\n",
        "svm_best_auc = svm_grid.best_score_\n",
        "svm_best_params = svm_grid.best_params_"
      ]
    },
    {
      "cell_type": "code",
      "execution_count": 5,
      "metadata": {},
      "outputs": [],
      "source": [
        "from sklearn.metrics import roc_auc_score, average_precision_score, roc_curve, precision_recall_curve\n",
        "svm_best = svm_grid.best_estimator_\n",
        "svm_best_preds = svm_best.predict_proba(X_test)[:, 1]\n",
        "svm_test_auc = roc_auc_score(y_test, svm_best_preds)"
      ]
    },
    {
      "cell_type": "code",
      "execution_count": 6,
      "metadata": {},
      "outputs": [
        {
          "name": "stdout",
          "output_type": "stream",
          "text": [
            "SVM: AUC на тренировочных данных = 0.5198, Тестовое AUC = 0.5079, Лучшие параметры = {'C': 0.01, 'class_weight': None, 'kernel': 'linear'}, Время GridSearch = 521.4118 сек\n"
          ]
        }
      ],
      "source": [
        "print(f'SVM: AUC на тренировочных данных = {svm_best_auc:.4f}, '\n",
        "      f'Тестовое AUC = {svm_test_auc:.4f}, '\n",
        "      f'Лучшие параметры = {svm_best_params}, '\n",
        "      f'Время GridSearch = {svm_grid_time:.4f} сек')"
      ]
    },
    {
      "cell_type": "code",
      "execution_count": 5,
      "metadata": {},
      "outputs": [
        {
          "name": "stdout",
          "output_type": "stream",
          "text": [
            "Fitting 3 folds for each of 4 candidates, totalling 12 fits\n",
            "[CV] END .....................n_neighbors=1, weights=uniform; total time=  46.9s\n",
            "[CV] END .....................n_neighbors=1, weights=uniform; total time=  44.1s\n",
            "[CV] END .....................n_neighbors=1, weights=uniform; total time=  43.2s\n",
            "[CV] END ....................n_neighbors=1, weights=distance; total time=  42.4s\n",
            "[CV] END ....................n_neighbors=1, weights=distance; total time=  44.2s\n",
            "[CV] END ....................n_neighbors=1, weights=distance; total time=  42.9s\n",
            "[CV] END .....................n_neighbors=2, weights=uniform; total time=  41.1s\n",
            "[CV] END .....................n_neighbors=2, weights=uniform; total time=  43.3s\n",
            "[CV] END .....................n_neighbors=2, weights=uniform; total time=  44.5s\n",
            "[CV] END ....................n_neighbors=2, weights=distance; total time=  43.2s\n",
            "[CV] END ....................n_neighbors=2, weights=distance; total time=  44.4s\n",
            "[CV] END ....................n_neighbors=2, weights=distance; total time=  44.0s\n"
          ]
        }
      ],
      "source": [
        "from sklearn.neighbors import KNeighborsClassifier\n",
        "from sklearn.model_selection import GridSearchCV\n",
        "from sklearn.metrics import roc_auc_score, average_precision_score, roc_curve, precision_recall_curve\n",
        "\n",
        "knn_params = {\n",
        "    'n_neighbors': range(1, 3),\n",
        "    'weights': ['uniform', 'distance']\n",
        "}\n",
        "knn_grid = GridSearchCV(KNeighborsClassifier(), knn_params, scoring='roc_auc', cv=3, verbose=2)\n",
        "start_time = time.time()\n",
        "knn_grid.fit(X_train, y_train)\n",
        "knn_grid_time = time.time() - start_time\n",
        "knn_best_auc = knn_grid.best_score_\n",
        "knn_best_params = knn_grid.best_params_\n",
        "\n",
        "knn_best = knn_grid.best_estimator_\n",
        "knn_best_preds = knn_best.predict_proba(X_test)[:, 1]\n",
        "knn_test_auc = roc_auc_score(y_test, knn_best_preds)"
      ]
    },
    {
      "cell_type": "code",
      "execution_count": 6,
      "metadata": {},
      "outputs": [
        {
          "name": "stdout",
          "output_type": "stream",
          "text": [
            "KNN: AUC на тренировочных данных = 0.5067, Тестовое AUC = 0.5065, Лучшие параметры = {'n_neighbors': 2, 'weights': 'distance'}, Время GridSearch = 524.4714 сек\n"
          ]
        }
      ],
      "source": [
        "print(f'KNN: AUC на тренировочных данных = {knn_best_auc:.4f}, '\n",
        "      f'Тестовое AUC = {knn_test_auc:.4f}, '\n",
        "      f'Лучшие параметры = {knn_best_params}, '\n",
        "      f'Время GridSearch = {knn_grid_time:.4f} сек')"
      ]
    },
    {
      "cell_type": "markdown",
      "metadata": {
        "id": "5ekzi8vNVB93"
      },
      "source": [
        "### **Встроенные методы**"
      ]
    },
    {
      "cell_type": "markdown",
      "metadata": {
        "id": "vXdGExm7VB93"
      },
      "source": [
        "**Заметим, что:**\n",
        "\n",
        "- Время обучения моделей отличается между собой.\n",
        "- Несмотря на то, что признаков много, качество модели не очень хорошее.\n",
        "\n",
        "\n",
        "Попробуем решить проблемы — улучшить качество и при этом сократить пространство признаков и, соответственно, время обучения моделей.\n",
        "\n",
        "\n",
        "\n",
        "**Отбор признаков встроеным методом.**\n",
        "\n",
        "Начнём с отбора признаков с помощью линейной модели. Делая это, мы используем факт:\n",
        "> веса линейной модели отражают  вклад каждого признака в предсказание модели, а значит, модуль этого вклада можно интерпретировать как важность признаков.\n",
        "\n",
        "Такой метод отбора называются встроенным в модель методом, так как он заложен в особенности модели.\n",
        "\n",
        "**Важно:** применение этого подхода требует машстабирования признаков (подумайте, почему). Вы можете использовать приведение к стандартному нормальному распределению (`StandardScaler`) с параметрами или MinMax преобразование (`MinMaxScaler`)."
      ]
    },
    {
      "cell_type": "markdown",
      "metadata": {
        "id": "WaAxJIb1jOSx"
      },
      "source": [
        "### **Задание 5 (0.75 балла)**\n",
        "\n",
        "Оставьте 150 признаков с наибольшими по модулю весами после обучения логистической регрессии.\n",
        "\n",
        "- Замерьте скорость такого отбора признаков. (0.2 балла)\n",
        "\n",
        "- Обучите логистическую регрессию на исходных признаках. Из них оставьте 150 лучших (с наибольшими по модулю весами).\n",
        "- Масштабируйте данные — все, кроме категориальных и бинарных признаков. Зафиксируйте, сколько признаков пришлось масштабировать. (0.25 балла)\n",
        "- Обучите новую модель на 150 признаках и оцените её качество. (0.15 балла)\n",
        "\n",
        "\n"
      ]
    },
    {
      "cell_type": "code",
      "execution_count": 8,
      "metadata": {
        "id": "fE_KAYwaksYk"
      },
      "outputs": [
        {
          "name": "stderr",
          "output_type": "stream",
          "text": [
            "/Users/akovel/anaconda3/envs/diploma/lib/python3.10/site-packages/sklearn/linear_model/_logistic.py:469: ConvergenceWarning: lbfgs failed to converge (status=1):\n",
            "STOP: TOTAL NO. of ITERATIONS REACHED LIMIT.\n",
            "\n",
            "Increase the number of iterations (max_iter) or scale the data as shown in:\n",
            "    https://scikit-learn.org/stable/modules/preprocessing.html\n",
            "Please also refer to the documentation for alternative solver options:\n",
            "    https://scikit-learn.org/stable/modules/linear_model.html#logistic-regression\n",
            "  n_iter_i = _check_optimize_result(\n"
          ]
        }
      ],
      "source": [
        "log_reg = LogisticRegression()\n",
        "log_reg.fit(X_train, y_train)\n",
        "\n",
        "weights = np.abs(log_reg.coef_[0])\n",
        "feature_names = X_train.columns"
      ]
    },
    {
      "cell_type": "code",
      "execution_count": 10,
      "metadata": {},
      "outputs": [],
      "source": [
        "start_time = time.time()\n",
        "\n",
        "top_indices = np.argsort(weights)[-150:]\n",
        "\n",
        "feature_selection_time = time.time() - start_time\n",
        "\n",
        "X_top = X_train.iloc[:, top_indices]"
      ]
    },
    {
      "cell_type": "code",
      "execution_count": 14,
      "metadata": {},
      "outputs": [],
      "source": [
        "from sklearn.preprocessing import StandardScaler\n",
        "\n",
        "scaler = StandardScaler()\n",
        "\n",
        "features_to_scale = X_top.select_dtypes(include=[np.float64, np.int64]).columns\n",
        "num_features_to_scale = len(features_to_scale)\n",
        "\n",
        "X_scaled = X_top.copy()\n",
        "X_scaled[features_to_scale] = scaler.fit_transform(X_top[features_to_scale])"
      ]
    },
    {
      "cell_type": "code",
      "execution_count": 33,
      "metadata": {},
      "outputs": [],
      "source": [
        "X_top_test = X_test.iloc[:, top_indices]\n",
        "X_top_test[features_to_scale] = scaler.transform(X_test[features_to_scale])"
      ]
    },
    {
      "cell_type": "code",
      "execution_count": 34,
      "metadata": {},
      "outputs": [],
      "source": [
        "log_reg_top = LogisticRegression()\n",
        "log_reg_top.fit(X_scaled, y_train)\n",
        "\n",
        "top_preds = log_reg_top.predict_proba(X_top_test)[:, 1] \n",
        "top_auc = roc_auc_score(y_test, top_preds)"
      ]
    },
    {
      "cell_type": "code",
      "execution_count": 35,
      "metadata": {},
      "outputs": [
        {
          "name": "stdout",
          "output_type": "stream",
          "text": [
            "Количество признаков после отбора: 57\n",
            "Время на отбор 150 признаков: 0.0001 секунды\n",
            "AUC новой модели на оставшихся 150 признаках: 0.6278\n"
          ]
        }
      ],
      "source": [
        "print(f'Количество признаков после отбора: {num_features_to_scale}')\n",
        "print(f'Время на отбор 150 признаков: {feature_selection_time:.4f} секунды')\n",
        "print(f'AUC новой модели на оставшихся 150 признаках: {top_auc:.4f}')"
      ]
    },
    {
      "cell_type": "markdown",
      "metadata": {
        "id": "xxprB-TBwY_W"
      },
      "source": [
        "### **Бонус (0.25 балла)**\n",
        "\n",
        "Попробуйте реализовать итеративный отбор признаков, а именно:\n",
        "\n",
        "1) Сначала отобрать около 200 признаков (действуя как в задании выше)\n",
        "\n",
        "2) Потом повторить процедуру для отбора 150 признаков из 200 (снова действуя как в задании выше)"
      ]
    },
    {
      "cell_type": "code",
      "execution_count": 39,
      "metadata": {},
      "outputs": [
        {
          "name": "stderr",
          "output_type": "stream",
          "text": [
            "/Users/akovel/anaconda3/envs/diploma/lib/python3.10/site-packages/sklearn/linear_model/_logistic.py:469: ConvergenceWarning: lbfgs failed to converge (status=1):\n",
            "STOP: TOTAL NO. of ITERATIONS REACHED LIMIT.\n",
            "\n",
            "Increase the number of iterations (max_iter) or scale the data as shown in:\n",
            "    https://scikit-learn.org/stable/modules/preprocessing.html\n",
            "Please also refer to the documentation for alternative solver options:\n",
            "    https://scikit-learn.org/stable/modules/linear_model.html#logistic-regression\n",
            "  n_iter_i = _check_optimize_result(\n"
          ]
        }
      ],
      "source": [
        "log_reg = LogisticRegression()\n",
        "log_reg.fit(X_train, y_train)\n",
        "\n",
        "weights = np.abs(log_reg.coef_[0])  \n",
        "feature_names = X_train.columns \n",
        "\n",
        "start_time = time.time()\n",
        "\n",
        "top_200_indices = np.argsort(weights)[-200:]\n",
        "\n",
        "feature_selection_time_200 = time.time() - start_time\n",
        "\n",
        "X_top_200_train = X_train.iloc[:, top_200_indices]\n",
        "X_top_200_test = X_test.iloc[:, top_200_indices] "
      ]
    },
    {
      "cell_type": "code",
      "execution_count": 40,
      "metadata": {
        "id": "E05nP4FTwp48"
      },
      "outputs": [],
      "source": [
        "scaler = StandardScaler()\n",
        "\n",
        "features_to_scale_200 = X_top_200_train.select_dtypes(include=[np.float64, np.int64]).columns  \n",
        "num_features_to_scale_200 = len(features_to_scale_200)\n",
        "\n",
        "X_top_200_train[features_to_scale_200] = scaler.fit_transform(X_top_200_train[features_to_scale_200])\n",
        "\n",
        "X_top_200_test[features_to_scale_200] = scaler.transform(X_top_200_test[features_to_scale_200])\n",
        "\n"
      ]
    },
    {
      "cell_type": "code",
      "execution_count": 41,
      "metadata": {},
      "outputs": [],
      "source": [
        "log_reg_200 = LogisticRegression(max_iter=1000)\n",
        "log_reg_200.fit(X_top_200_train, y_train)\n",
        "\n",
        "weights_200 = np.abs(log_reg_200.coef_[0]) \n",
        "start_time = time.time()\n",
        "\n",
        "top_150_indices = np.argsort(weights_200)[-150:]\n",
        "feature_selection_time_150 = time.time() - start_time\n"
      ]
    },
    {
      "cell_type": "code",
      "execution_count": 42,
      "metadata": {},
      "outputs": [
        {
          "name": "stdout",
          "output_type": "stream",
          "text": [
            "Количество признаков после первого отбора: 200\n",
            "Время на отбор 200 признаков: 0.0000 секунд\n",
            "Количество признаков после второго отбора: 150\n",
            "Время на отбор 150 признаков: 0.0001 секунд\n",
            "AUC новой модели на оставшихся 150 признаках: 0.6278\n"
          ]
        }
      ],
      "source": [
        "X_top_150_train = X_top_200_train.iloc[:, top_150_indices]\n",
        "X_top_150_test = X_top_200_test.iloc[:, top_150_indices] \n",
        "\n",
        "x_train_150_scaled = scaler.transform(X_top_150_train[features_to_scale_200])\n",
        "x_test_150_scaled = scaler.transform(X_top_150_test[features_to_scale_200])\n",
        "\n",
        "log_reg_150 = LogisticRegression(max_iter=1000)\n",
        "log_reg_150.fit(X_top_150_train, y_train)\n",
        "\n",
        "top_preds = log_reg_150.predict_proba(X_top_150_test)[:, 1] \n",
        "top_auc = roc_auc_score(y_test, top_preds)\n",
        "\n",
        "print(f'Количество признаков после первого отбора: 200')\n",
        "print(f'Время на отбор 200 признаков: {feature_selection_time_200:.4f} секунд')\n",
        "print(f'Количество признаков после второго отбора: 150')\n",
        "print(f'Время на отбор 150 признаков: {feature_selection_time_150:.4f} секунд')\n",
        "print(f'AUC новой модели на оставшихся 150 признаках: {top_auc:.4f}')"
      ]
    },
    {
      "cell_type": "markdown",
      "metadata": {
        "id": "pclhy3j0VB94"
      },
      "source": [
        "### **Задание 6 (0.5 балла)**\n",
        "\n",
        "Также можно задать отбор признаков, используя другия свойства модели. Вспомним, что L1-регуляризация тоже умеет отбирать признаки.\n",
        "\n",
        "- Обучите модель на исходных данных. Подберите по сетке (GridSearch) наилучшее значение коэффициента регуляризации C. (0.1 балла)\n",
        "\n",
        "- Посмотрите сколько признаков отобрала модель с найденным оптимальным C?\n",
        "  - Сначала посчитайте только число ненулевых весов\n",
        "  - Затем посчитайте число весов, которые после округления до двух знаков после запятой не равны нулю (0.25 балла)\n",
        "\n",
        "Удалось ли отобрать 150 признаков за 1 шаг? (0.05 балла)"
      ]
    },
    {
      "cell_type": "code",
      "execution_count": 47,
      "metadata": {
        "id": "vMSiW_veVB95"
      },
      "outputs": [
        {
          "name": "stdout",
          "output_type": "stream",
          "text": [
            "Fitting 5 folds for each of 3 candidates, totalling 15 fits\n",
            "[CV] END ............................................C=0.001; total time=   2.3s\n",
            "[CV] END ............................................C=0.001; total time=   2.4s\n",
            "[CV] END ............................................C=0.001; total time=   2.7s\n",
            "[CV] END ............................................C=0.001; total time=   2.6s\n",
            "[CV] END ............................................C=0.001; total time=   3.1s\n",
            "[CV] END .............................................C=0.01; total time=  15.3s\n",
            "[CV] END .............................................C=0.01; total time=  12.7s\n",
            "[CV] END .............................................C=0.01; total time=  11.8s\n",
            "[CV] END .............................................C=0.01; total time=  15.3s\n",
            "[CV] END .............................................C=0.01; total time=  13.3s\n",
            "[CV] END ..............................................C=0.1; total time=  36.1s\n",
            "[CV] END ..............................................C=0.1; total time=  34.3s\n",
            "[CV] END ..............................................C=0.1; total time=  40.2s\n",
            "[CV] END ..............................................C=0.1; total time=  38.7s\n",
            "[CV] END ..............................................C=0.1; total time=  27.5s\n",
            "Лучшее значение C: 0.1\n"
          ]
        }
      ],
      "source": [
        "param_grid = {'C': [0.001,0.01,0.1]}\n",
        "grid_search = GridSearchCV(LogisticRegression(penalty='l1', solver='liblinear'), param_grid, scoring='roc_auc', cv=5, verbose=2)\n",
        "\n",
        "grid_search.fit(X_train, y_train)\n",
        "\n",
        "best_C = grid_search.best_params_['C']\n",
        "print(f'Лучшее значение C: {best_C}')"
      ]
    },
    {
      "cell_type": "code",
      "execution_count": 48,
      "metadata": {},
      "outputs": [
        {
          "data": {
            "text/html": [
              "<style>#sk-container-id-1 {\n",
              "  /* Definition of color scheme common for light and dark mode */\n",
              "  --sklearn-color-text: black;\n",
              "  --sklearn-color-line: gray;\n",
              "  /* Definition of color scheme for unfitted estimators */\n",
              "  --sklearn-color-unfitted-level-0: #fff5e6;\n",
              "  --sklearn-color-unfitted-level-1: #f6e4d2;\n",
              "  --sklearn-color-unfitted-level-2: #ffe0b3;\n",
              "  --sklearn-color-unfitted-level-3: chocolate;\n",
              "  /* Definition of color scheme for fitted estimators */\n",
              "  --sklearn-color-fitted-level-0: #f0f8ff;\n",
              "  --sklearn-color-fitted-level-1: #d4ebff;\n",
              "  --sklearn-color-fitted-level-2: #b3dbfd;\n",
              "  --sklearn-color-fitted-level-3: cornflowerblue;\n",
              "\n",
              "  /* Specific color for light theme */\n",
              "  --sklearn-color-text-on-default-background: var(--sg-text-color, var(--theme-code-foreground, var(--jp-content-font-color1, black)));\n",
              "  --sklearn-color-background: var(--sg-background-color, var(--theme-background, var(--jp-layout-color0, white)));\n",
              "  --sklearn-color-border-box: var(--sg-text-color, var(--theme-code-foreground, var(--jp-content-font-color1, black)));\n",
              "  --sklearn-color-icon: #696969;\n",
              "\n",
              "  @media (prefers-color-scheme: dark) {\n",
              "    /* Redefinition of color scheme for dark theme */\n",
              "    --sklearn-color-text-on-default-background: var(--sg-text-color, var(--theme-code-foreground, var(--jp-content-font-color1, white)));\n",
              "    --sklearn-color-background: var(--sg-background-color, var(--theme-background, var(--jp-layout-color0, #111)));\n",
              "    --sklearn-color-border-box: var(--sg-text-color, var(--theme-code-foreground, var(--jp-content-font-color1, white)));\n",
              "    --sklearn-color-icon: #878787;\n",
              "  }\n",
              "}\n",
              "\n",
              "#sk-container-id-1 {\n",
              "  color: var(--sklearn-color-text);\n",
              "}\n",
              "\n",
              "#sk-container-id-1 pre {\n",
              "  padding: 0;\n",
              "}\n",
              "\n",
              "#sk-container-id-1 input.sk-hidden--visually {\n",
              "  border: 0;\n",
              "  clip: rect(1px 1px 1px 1px);\n",
              "  clip: rect(1px, 1px, 1px, 1px);\n",
              "  height: 1px;\n",
              "  margin: -1px;\n",
              "  overflow: hidden;\n",
              "  padding: 0;\n",
              "  position: absolute;\n",
              "  width: 1px;\n",
              "}\n",
              "\n",
              "#sk-container-id-1 div.sk-dashed-wrapped {\n",
              "  border: 1px dashed var(--sklearn-color-line);\n",
              "  margin: 0 0.4em 0.5em 0.4em;\n",
              "  box-sizing: border-box;\n",
              "  padding-bottom: 0.4em;\n",
              "  background-color: var(--sklearn-color-background);\n",
              "}\n",
              "\n",
              "#sk-container-id-1 div.sk-container {\n",
              "  /* jupyter's `normalize.less` sets `[hidden] { display: none; }`\n",
              "     but bootstrap.min.css set `[hidden] { display: none !important; }`\n",
              "     so we also need the `!important` here to be able to override the\n",
              "     default hidden behavior on the sphinx rendered scikit-learn.org.\n",
              "     See: https://github.com/scikit-learn/scikit-learn/issues/21755 */\n",
              "  display: inline-block !important;\n",
              "  position: relative;\n",
              "}\n",
              "\n",
              "#sk-container-id-1 div.sk-text-repr-fallback {\n",
              "  display: none;\n",
              "}\n",
              "\n",
              "div.sk-parallel-item,\n",
              "div.sk-serial,\n",
              "div.sk-item {\n",
              "  /* draw centered vertical line to link estimators */\n",
              "  background-image: linear-gradient(var(--sklearn-color-text-on-default-background), var(--sklearn-color-text-on-default-background));\n",
              "  background-size: 2px 100%;\n",
              "  background-repeat: no-repeat;\n",
              "  background-position: center center;\n",
              "}\n",
              "\n",
              "/* Parallel-specific style estimator block */\n",
              "\n",
              "#sk-container-id-1 div.sk-parallel-item::after {\n",
              "  content: \"\";\n",
              "  width: 100%;\n",
              "  border-bottom: 2px solid var(--sklearn-color-text-on-default-background);\n",
              "  flex-grow: 1;\n",
              "}\n",
              "\n",
              "#sk-container-id-1 div.sk-parallel {\n",
              "  display: flex;\n",
              "  align-items: stretch;\n",
              "  justify-content: center;\n",
              "  background-color: var(--sklearn-color-background);\n",
              "  position: relative;\n",
              "}\n",
              "\n",
              "#sk-container-id-1 div.sk-parallel-item {\n",
              "  display: flex;\n",
              "  flex-direction: column;\n",
              "}\n",
              "\n",
              "#sk-container-id-1 div.sk-parallel-item:first-child::after {\n",
              "  align-self: flex-end;\n",
              "  width: 50%;\n",
              "}\n",
              "\n",
              "#sk-container-id-1 div.sk-parallel-item:last-child::after {\n",
              "  align-self: flex-start;\n",
              "  width: 50%;\n",
              "}\n",
              "\n",
              "#sk-container-id-1 div.sk-parallel-item:only-child::after {\n",
              "  width: 0;\n",
              "}\n",
              "\n",
              "/* Serial-specific style estimator block */\n",
              "\n",
              "#sk-container-id-1 div.sk-serial {\n",
              "  display: flex;\n",
              "  flex-direction: column;\n",
              "  align-items: center;\n",
              "  background-color: var(--sklearn-color-background);\n",
              "  padding-right: 1em;\n",
              "  padding-left: 1em;\n",
              "}\n",
              "\n",
              "\n",
              "/* Toggleable style: style used for estimator/Pipeline/ColumnTransformer box that is\n",
              "clickable and can be expanded/collapsed.\n",
              "- Pipeline and ColumnTransformer use this feature and define the default style\n",
              "- Estimators will overwrite some part of the style using the `sk-estimator` class\n",
              "*/\n",
              "\n",
              "/* Pipeline and ColumnTransformer style (default) */\n",
              "\n",
              "#sk-container-id-1 div.sk-toggleable {\n",
              "  /* Default theme specific background. It is overwritten whether we have a\n",
              "  specific estimator or a Pipeline/ColumnTransformer */\n",
              "  background-color: var(--sklearn-color-background);\n",
              "}\n",
              "\n",
              "/* Toggleable label */\n",
              "#sk-container-id-1 label.sk-toggleable__label {\n",
              "  cursor: pointer;\n",
              "  display: block;\n",
              "  width: 100%;\n",
              "  margin-bottom: 0;\n",
              "  padding: 0.5em;\n",
              "  box-sizing: border-box;\n",
              "  text-align: center;\n",
              "}\n",
              "\n",
              "#sk-container-id-1 label.sk-toggleable__label-arrow:before {\n",
              "  /* Arrow on the left of the label */\n",
              "  content: \"▸\";\n",
              "  float: left;\n",
              "  margin-right: 0.25em;\n",
              "  color: var(--sklearn-color-icon);\n",
              "}\n",
              "\n",
              "#sk-container-id-1 label.sk-toggleable__label-arrow:hover:before {\n",
              "  color: var(--sklearn-color-text);\n",
              "}\n",
              "\n",
              "/* Toggleable content - dropdown */\n",
              "\n",
              "#sk-container-id-1 div.sk-toggleable__content {\n",
              "  max-height: 0;\n",
              "  max-width: 0;\n",
              "  overflow: hidden;\n",
              "  text-align: left;\n",
              "  /* unfitted */\n",
              "  background-color: var(--sklearn-color-unfitted-level-0);\n",
              "}\n",
              "\n",
              "#sk-container-id-1 div.sk-toggleable__content.fitted {\n",
              "  /* fitted */\n",
              "  background-color: var(--sklearn-color-fitted-level-0);\n",
              "}\n",
              "\n",
              "#sk-container-id-1 div.sk-toggleable__content pre {\n",
              "  margin: 0.2em;\n",
              "  border-radius: 0.25em;\n",
              "  color: var(--sklearn-color-text);\n",
              "  /* unfitted */\n",
              "  background-color: var(--sklearn-color-unfitted-level-0);\n",
              "}\n",
              "\n",
              "#sk-container-id-1 div.sk-toggleable__content.fitted pre {\n",
              "  /* unfitted */\n",
              "  background-color: var(--sklearn-color-fitted-level-0);\n",
              "}\n",
              "\n",
              "#sk-container-id-1 input.sk-toggleable__control:checked~div.sk-toggleable__content {\n",
              "  /* Expand drop-down */\n",
              "  max-height: 200px;\n",
              "  max-width: 100%;\n",
              "  overflow: auto;\n",
              "}\n",
              "\n",
              "#sk-container-id-1 input.sk-toggleable__control:checked~label.sk-toggleable__label-arrow:before {\n",
              "  content: \"▾\";\n",
              "}\n",
              "\n",
              "/* Pipeline/ColumnTransformer-specific style */\n",
              "\n",
              "#sk-container-id-1 div.sk-label input.sk-toggleable__control:checked~label.sk-toggleable__label {\n",
              "  color: var(--sklearn-color-text);\n",
              "  background-color: var(--sklearn-color-unfitted-level-2);\n",
              "}\n",
              "\n",
              "#sk-container-id-1 div.sk-label.fitted input.sk-toggleable__control:checked~label.sk-toggleable__label {\n",
              "  background-color: var(--sklearn-color-fitted-level-2);\n",
              "}\n",
              "\n",
              "/* Estimator-specific style */\n",
              "\n",
              "/* Colorize estimator box */\n",
              "#sk-container-id-1 div.sk-estimator input.sk-toggleable__control:checked~label.sk-toggleable__label {\n",
              "  /* unfitted */\n",
              "  background-color: var(--sklearn-color-unfitted-level-2);\n",
              "}\n",
              "\n",
              "#sk-container-id-1 div.sk-estimator.fitted input.sk-toggleable__control:checked~label.sk-toggleable__label {\n",
              "  /* fitted */\n",
              "  background-color: var(--sklearn-color-fitted-level-2);\n",
              "}\n",
              "\n",
              "#sk-container-id-1 div.sk-label label.sk-toggleable__label,\n",
              "#sk-container-id-1 div.sk-label label {\n",
              "  /* The background is the default theme color */\n",
              "  color: var(--sklearn-color-text-on-default-background);\n",
              "}\n",
              "\n",
              "/* On hover, darken the color of the background */\n",
              "#sk-container-id-1 div.sk-label:hover label.sk-toggleable__label {\n",
              "  color: var(--sklearn-color-text);\n",
              "  background-color: var(--sklearn-color-unfitted-level-2);\n",
              "}\n",
              "\n",
              "/* Label box, darken color on hover, fitted */\n",
              "#sk-container-id-1 div.sk-label.fitted:hover label.sk-toggleable__label.fitted {\n",
              "  color: var(--sklearn-color-text);\n",
              "  background-color: var(--sklearn-color-fitted-level-2);\n",
              "}\n",
              "\n",
              "/* Estimator label */\n",
              "\n",
              "#sk-container-id-1 div.sk-label label {\n",
              "  font-family: monospace;\n",
              "  font-weight: bold;\n",
              "  display: inline-block;\n",
              "  line-height: 1.2em;\n",
              "}\n",
              "\n",
              "#sk-container-id-1 div.sk-label-container {\n",
              "  text-align: center;\n",
              "}\n",
              "\n",
              "/* Estimator-specific */\n",
              "#sk-container-id-1 div.sk-estimator {\n",
              "  font-family: monospace;\n",
              "  border: 1px dotted var(--sklearn-color-border-box);\n",
              "  border-radius: 0.25em;\n",
              "  box-sizing: border-box;\n",
              "  margin-bottom: 0.5em;\n",
              "  /* unfitted */\n",
              "  background-color: var(--sklearn-color-unfitted-level-0);\n",
              "}\n",
              "\n",
              "#sk-container-id-1 div.sk-estimator.fitted {\n",
              "  /* fitted */\n",
              "  background-color: var(--sklearn-color-fitted-level-0);\n",
              "}\n",
              "\n",
              "/* on hover */\n",
              "#sk-container-id-1 div.sk-estimator:hover {\n",
              "  /* unfitted */\n",
              "  background-color: var(--sklearn-color-unfitted-level-2);\n",
              "}\n",
              "\n",
              "#sk-container-id-1 div.sk-estimator.fitted:hover {\n",
              "  /* fitted */\n",
              "  background-color: var(--sklearn-color-fitted-level-2);\n",
              "}\n",
              "\n",
              "/* Specification for estimator info (e.g. \"i\" and \"?\") */\n",
              "\n",
              "/* Common style for \"i\" and \"?\" */\n",
              "\n",
              ".sk-estimator-doc-link,\n",
              "a:link.sk-estimator-doc-link,\n",
              "a:visited.sk-estimator-doc-link {\n",
              "  float: right;\n",
              "  font-size: smaller;\n",
              "  line-height: 1em;\n",
              "  font-family: monospace;\n",
              "  background-color: var(--sklearn-color-background);\n",
              "  border-radius: 1em;\n",
              "  height: 1em;\n",
              "  width: 1em;\n",
              "  text-decoration: none !important;\n",
              "  margin-left: 1ex;\n",
              "  /* unfitted */\n",
              "  border: var(--sklearn-color-unfitted-level-1) 1pt solid;\n",
              "  color: var(--sklearn-color-unfitted-level-1);\n",
              "}\n",
              "\n",
              ".sk-estimator-doc-link.fitted,\n",
              "a:link.sk-estimator-doc-link.fitted,\n",
              "a:visited.sk-estimator-doc-link.fitted {\n",
              "  /* fitted */\n",
              "  border: var(--sklearn-color-fitted-level-1) 1pt solid;\n",
              "  color: var(--sklearn-color-fitted-level-1);\n",
              "}\n",
              "\n",
              "/* On hover */\n",
              "div.sk-estimator:hover .sk-estimator-doc-link:hover,\n",
              ".sk-estimator-doc-link:hover,\n",
              "div.sk-label-container:hover .sk-estimator-doc-link:hover,\n",
              ".sk-estimator-doc-link:hover {\n",
              "  /* unfitted */\n",
              "  background-color: var(--sklearn-color-unfitted-level-3);\n",
              "  color: var(--sklearn-color-background);\n",
              "  text-decoration: none;\n",
              "}\n",
              "\n",
              "div.sk-estimator.fitted:hover .sk-estimator-doc-link.fitted:hover,\n",
              ".sk-estimator-doc-link.fitted:hover,\n",
              "div.sk-label-container:hover .sk-estimator-doc-link.fitted:hover,\n",
              ".sk-estimator-doc-link.fitted:hover {\n",
              "  /* fitted */\n",
              "  background-color: var(--sklearn-color-fitted-level-3);\n",
              "  color: var(--sklearn-color-background);\n",
              "  text-decoration: none;\n",
              "}\n",
              "\n",
              "/* Span, style for the box shown on hovering the info icon */\n",
              ".sk-estimator-doc-link span {\n",
              "  display: none;\n",
              "  z-index: 9999;\n",
              "  position: relative;\n",
              "  font-weight: normal;\n",
              "  right: .2ex;\n",
              "  padding: .5ex;\n",
              "  margin: .5ex;\n",
              "  width: min-content;\n",
              "  min-width: 20ex;\n",
              "  max-width: 50ex;\n",
              "  color: var(--sklearn-color-text);\n",
              "  box-shadow: 2pt 2pt 4pt #999;\n",
              "  /* unfitted */\n",
              "  background: var(--sklearn-color-unfitted-level-0);\n",
              "  border: .5pt solid var(--sklearn-color-unfitted-level-3);\n",
              "}\n",
              "\n",
              ".sk-estimator-doc-link.fitted span {\n",
              "  /* fitted */\n",
              "  background: var(--sklearn-color-fitted-level-0);\n",
              "  border: var(--sklearn-color-fitted-level-3);\n",
              "}\n",
              "\n",
              ".sk-estimator-doc-link:hover span {\n",
              "  display: block;\n",
              "}\n",
              "\n",
              "/* \"?\"-specific style due to the `<a>` HTML tag */\n",
              "\n",
              "#sk-container-id-1 a.estimator_doc_link {\n",
              "  float: right;\n",
              "  font-size: 1rem;\n",
              "  line-height: 1em;\n",
              "  font-family: monospace;\n",
              "  background-color: var(--sklearn-color-background);\n",
              "  border-radius: 1rem;\n",
              "  height: 1rem;\n",
              "  width: 1rem;\n",
              "  text-decoration: none;\n",
              "  /* unfitted */\n",
              "  color: var(--sklearn-color-unfitted-level-1);\n",
              "  border: var(--sklearn-color-unfitted-level-1) 1pt solid;\n",
              "}\n",
              "\n",
              "#sk-container-id-1 a.estimator_doc_link.fitted {\n",
              "  /* fitted */\n",
              "  border: var(--sklearn-color-fitted-level-1) 1pt solid;\n",
              "  color: var(--sklearn-color-fitted-level-1);\n",
              "}\n",
              "\n",
              "/* On hover */\n",
              "#sk-container-id-1 a.estimator_doc_link:hover {\n",
              "  /* unfitted */\n",
              "  background-color: var(--sklearn-color-unfitted-level-3);\n",
              "  color: var(--sklearn-color-background);\n",
              "  text-decoration: none;\n",
              "}\n",
              "\n",
              "#sk-container-id-1 a.estimator_doc_link.fitted:hover {\n",
              "  /* fitted */\n",
              "  background-color: var(--sklearn-color-fitted-level-3);\n",
              "}\n",
              "</style><div id=\"sk-container-id-1\" class=\"sk-top-container\"><div class=\"sk-text-repr-fallback\"><pre>LogisticRegression(C=0.1, penalty=&#x27;l1&#x27;, solver=&#x27;liblinear&#x27;)</pre><b>In a Jupyter environment, please rerun this cell to show the HTML representation or trust the notebook. <br />On GitHub, the HTML representation is unable to render, please try loading this page with nbviewer.org.</b></div><div class=\"sk-container\" hidden><div class=\"sk-item\"><div class=\"sk-estimator fitted sk-toggleable\"><input class=\"sk-toggleable__control sk-hidden--visually\" id=\"sk-estimator-id-1\" type=\"checkbox\" checked><label for=\"sk-estimator-id-1\" class=\"sk-toggleable__label fitted sk-toggleable__label-arrow fitted\">&nbsp;&nbsp;LogisticRegression<a class=\"sk-estimator-doc-link fitted\" rel=\"noreferrer\" target=\"_blank\" href=\"https://scikit-learn.org/1.4/modules/generated/sklearn.linear_model.LogisticRegression.html\">?<span>Documentation for LogisticRegression</span></a><span class=\"sk-estimator-doc-link fitted\">i<span>Fitted</span></span></label><div class=\"sk-toggleable__content fitted\"><pre>LogisticRegression(C=0.1, penalty=&#x27;l1&#x27;, solver=&#x27;liblinear&#x27;)</pre></div> </div></div></div></div>"
            ],
            "text/plain": [
              "LogisticRegression(C=0.1, penalty='l1', solver='liblinear')"
            ]
          },
          "execution_count": 48,
          "metadata": {},
          "output_type": "execute_result"
        }
      ],
      "source": [
        "log_reg_l1 = LogisticRegression(penalty='l1', C=best_C, solver='liblinear')\n",
        "log_reg_l1.fit(X_train, y_train)"
      ]
    },
    {
      "cell_type": "code",
      "execution_count": 49,
      "metadata": {},
      "outputs": [],
      "source": [
        "non_zero_weights = np.sum(log_reg_l1.coef_[0] != 0)"
      ]
    },
    {
      "cell_type": "code",
      "execution_count": 50,
      "metadata": {},
      "outputs": [],
      "source": [
        "rounded_weights = np.round(log_reg_l1.coef_[0], 2)\n",
        "non_zero_rounded_weights = np.sum(rounded_weights != 0)"
      ]
    },
    {
      "cell_type": "code",
      "execution_count": 51,
      "metadata": {},
      "outputs": [
        {
          "name": "stdout",
          "output_type": "stream",
          "text": [
            "Количество ненулевых весов: 47\n",
            "Количество весов, неодинаковых нулю после округления: 35\n",
            "Удалось ли отобрать 150 признаков?: Нет\n"
          ]
        }
      ],
      "source": [
        "print(f'Количество ненулевых весов: {non_zero_weights}')\n",
        "print(f'Количество весов, неодинаковых нулю после округления: {non_zero_rounded_weights}')\n",
        "print(f'Удалось ли отобрать 150 признаков?: {\"Да\" if non_zero_weights >= 150 else \"Нет\"}')"
      ]
    },
    {
      "cell_type": "markdown",
      "metadata": {
        "id": "JNw0lRCKVB95"
      },
      "source": [
        "### **Методы фильтрации**"
      ]
    },
    {
      "cell_type": "markdown",
      "metadata": {
        "id": "IPiS20_LVB95"
      },
      "source": [
        "Также можно отбирать признаки, применяя методы математической статистики. А именно, в нашем случае, через подсчёт некоторой функции для каждого признака. На основании значений этой функции (она называется *статистикой*) мы можем оставлять наиболее важные признаки. Методы этого семейства называют *фильтрационными* или *filter methods*.\n",
        "\n",
        "**Что проверяем:**\n",
        "\n",
        "Равны ли математические ожидания (то есть выборочные средние) распределений признака для двух разных классов? Если они различаются, значит и сами распределения разные. И можно сделать вывод, что по этому признаку модель сможет отличить один класс от другого. А если распределения неотличимы и значение статистики маленькое, то и признак бесполезен.\n",
        "\n",
        "\n",
        "Для проверки будем считать t-статистику:\n",
        "\n",
        "$$t(x) = \\frac{|\\mu_+ - \\mu_-|}{\\sqrt{\\frac{n_+ s^2_+ + n_- s^2_-}{n_+ + n_-}}},$$\n",
        "\n",
        "где $\\mu$, $s$, $n$ соответственно среднее, среднеквадратичное отклонение и количество объектов каждого из классов.\n",
        "\n",
        "**Примечание:** Если у вас была данная тема на курсе по математической статистике, то вы без труда узнаете статистику гипотезы о разности средних при неизвестных дисперсиях.\n",
        "\n",
        "Хотя мы и не используем статистическое тестирование явно, предпосылки о том, что наблюдения независимы, одинаково распределены и $n$ велико, должны соблюдаться, иначе статистика не имеет смысла. Но у нас большая выборка, поэтому они выполняются.\n",
        "\n",
        "Для отбора признаков по t-статистике мы возьмём признаки с наибольшим значением статистики."
      ]
    },
    {
      "cell_type": "markdown",
      "metadata": {
        "id": "9pLgc8i1p11H"
      },
      "source": [
        "### **Задание 7 (1 балла)**\n",
        "\n",
        "-  Масштабируйте признаки исходного датасета — все, кроме категориальных и бинарных.\n",
        "- Выделите непрерывные признаки (те, которые масштабировали)\n",
        "- Посчитайте значения t-статистики. Оставьте ***половину*** признаков с наибольшим значением статистики, объедините их с категориальными и бинарными.\n",
        "- Обучите модель логистической регрессии и замерьте качество.\n",
        "\n",
        "Не забудьте замерить скорость отбора признаков в этом случаев."
      ]
    },
    {
      "cell_type": "code",
      "execution_count": 52,
      "metadata": {},
      "outputs": [],
      "source": [
        "continuous_features = X_train.select_dtypes(include=[np.float64, np.int64]).columns\n",
        "scaler = StandardScaler()\n",
        "\n",
        "start_time = time.time()\n",
        "X_train_scaled = X_train.copy()\n",
        "X_test_scaled = X_test.copy()\n",
        "\n",
        "X_train_scaled[continuous_features] = scaler.fit_transform(X_train[continuous_features])\n",
        "X_test_scaled[continuous_features] = scaler.transform(X_test[continuous_features])\n",
        "\n",
        "scaling_time = time.time() - start_time"
      ]
    },
    {
      "cell_type": "code",
      "execution_count": 54,
      "metadata": {},
      "outputs": [],
      "source": [
        "from scipy import stats\n",
        "\n",
        "t_statistic, _ = stats.ttest_ind(X_train_scaled[continuous_features][y_train == 1], \n",
        "                                   X_train_scaled[continuous_features][y_train == 0], \n",
        "                                   equal_var=False)"
      ]
    },
    {
      "cell_type": "code",
      "execution_count": 55,
      "metadata": {},
      "outputs": [],
      "source": [
        "num_features_to_select = len(t_statistic) // 2\n",
        "top_indices = np.argsort(np.abs(t_statistic))[-num_features_to_select:]"
      ]
    },
    {
      "cell_type": "code",
      "execution_count": 56,
      "metadata": {},
      "outputs": [],
      "source": [
        "categorical_features = X_train.select_dtypes(include=['object']).columns\n",
        "binary_features = X_train.columns[X_train.isin([0, 1]).all()].tolist()"
      ]
    },
    {
      "cell_type": "code",
      "execution_count": 57,
      "metadata": {},
      "outputs": [],
      "source": [
        "selected_features = X_train.columns[top_indices]\n",
        "final_features = list(selected_features) + list(categorical_features) + list(binary_features)\n",
        "\n",
        "X_final_train = X_train[final_features]\n",
        "X_final_test = X_test[final_features]"
      ]
    },
    {
      "cell_type": "code",
      "execution_count": 58,
      "metadata": {
        "id": "n_ECsmnPC_A-"
      },
      "outputs": [
        {
          "name": "stdout",
          "output_type": "stream",
          "text": [
            "Время на масштабирование признаков: 0.3781 секунд\n",
            "Количество выбранных признаков с наибольшими t-статистиками: 28\n",
            "Качество модели логистической регрессии: 0.9637\n"
          ]
        }
      ],
      "source": [
        "log_reg_final = LogisticRegression(max_iter=1000)\n",
        "log_reg_final.fit(X_final_train, y_train)\n",
        "\n",
        "accuracy = log_reg_final.score(X_final_test, y_test)\n",
        "\n",
        "print(f'Время на масштабирование признаков: {scaling_time:.4f} секунд')\n",
        "print(f'Количество выбранных признаков с наибольшими t-статистиками: {num_features_to_select}')\n",
        "print(f'Качество модели логистической регрессии: {accuracy:.4f}')"
      ]
    },
    {
      "cell_type": "markdown",
      "metadata": {
        "id": "N7lqIMZ_VB96"
      },
      "source": [
        "### **Методы-обёртки**"
      ]
    },
    {
      "cell_type": "markdown",
      "metadata": {
        "id": "uIFhhYqJVB96"
      },
      "source": [
        "### **Задание 8 (бонус, 1 балл)**\n",
        "\n",
        "\n",
        "Заключительный из рассматриваемых нами методов работает следующим образом: мы исключаем по очереди каждый из признаков и смотрим, как это влияет на качество модели, обученной без удаленного признака. Удаляем признаки таким жадным способом.\n",
        "\n",
        "Заметим, что нельзя оценивать качество по тестовой выборке, иначе мы можем переобучиться, как, например, при настройке гиперпараметров. Разделите выборку на 2 части, на одной из них обучайте модель без одного из признаков,  на второй части оценивайте качество. Исходную тестовую выборку стоит использовать только на финальной оценке качества.\n",
        "\n",
        "Сделайте одну итерацию и прикиньте, сколько времени займёт такой отбор признаков. Кажется, что чересчур много. Давайте возьмём маленький сэмпл данных (например, в 10 тысяч объектов), что сильно уменьшит время итерации. Теперь это долго, но уже приемлимо.\n",
        "\n",
        "Если это всё ещё долго для вашего комьютера, можете попробовать брать не по одному признаку, а сразу по пять (и удалять сразу тоже по 5). Для этого перед каждой итерацией удаления делите заново все признаки на группы по 5 штук.\n",
        "\n",
        "Снова оставьте только 150 признаков и оцените качество на тестовой выборке. Сколько времени занял такой отбор признаков?"
      ]
    },
    {
      "cell_type": "code",
      "execution_count": 72,
      "metadata": {},
      "outputs": [],
      "source": [
        "original_features = X_train.columns.tolist()\n",
        "remaining_features = original_features.copy()"
      ]
    },
    {
      "cell_type": "code",
      "execution_count": 74,
      "metadata": {
        "id": "rcr82NfpVB96"
      },
      "outputs": [
        {
          "name": "stdout",
          "output_type": "stream",
          "text": [
            "Время на жадный отбор признаков: 0.0001 секунд\n",
            "Финальная точность модели: 0.9637\n"
          ]
        }
      ],
      "source": [
        "from sklearn.metrics import accuracy_score\n",
        "\n",
        "start_time = time.time()\n",
        "\n",
        "while len(remaining_features) > 150:\n",
        "    scores = []\n",
        "    \n",
        "    groups = [remaining_features[i:i + 5] for i in range(0, len(remaining_features), 5)]\n",
        "    \n",
        "    for group in groups:\n",
        "        excluded_features = [f for f in remaining_features if f not in group]\n",
        "        log_reg = LogisticRegression()\n",
        "        log_reg.fit(X_train[excluded_features], y_train)\n",
        "        \n",
        "        val_preds = log_reg.predict(X_train[excluded_features])\n",
        "        score = accuracy_score(y_val, val_preds)\n",
        "        scores.append((score, group))\n",
        "        \n",
        "    worst_group = max(scores)[1]\n",
        "    \n",
        "    for feature in worst_group:\n",
        "        remaining_features.remove(feature)\n",
        "\n",
        "end_time = time.time()\n",
        "elapsed_time = end_time - start_time\n",
        "\n",
        "X_final_train = X_train[remaining_features]\n",
        "X_final_test = X_test[remaining_features]\n",
        "\n",
        "final_model = LogisticRegression(max_iter=1000)\n",
        "final_model.fit(X_final_train, y_train)\n",
        "\n",
        "final_preds = final_model.predict(X_final_test)\n",
        "final_accuracy = accuracy_score(y_test, final_preds)\n",
        "\n",
        "print(f'Время на жадный отбор признаков: {elapsed_time:.4f} секунд')\n",
        "print(f'Финальная точность модели: {final_accuracy:.4f}')"
      ]
    },
    {
      "cell_type": "markdown",
      "metadata": {
        "id": "D80Fpqm5VB96"
      },
      "source": [
        "Опционально (это не оценивается) можете рассмотреть более интересные стратегии отбора, чем жадная. Например, генетические алгоритмы. Можно закодировать бинарным вектором, включаем мы или нет тот или иной признак в модель. А дальше генетическим алгоритмом оптимизировать этот вектор. Всё ещё не быстро, но точно быстрее жадного.\n"
      ]
    },
    {
      "cell_type": "markdown",
      "metadata": {
        "id": "QQ6cK9jTVB96"
      },
      "source": [
        "### **Задание 9 (0.25 балла)**\n",
        "\n",
        "Подведите итоги по отбору признаков. Назовите преимущества и недостатки каждого из методов. Какой метод привёл к наилучшему качеству? Если не делали бонус — сравните встроенный метод и метод фильтрации."
      ]
    },
    {
      "cell_type": "markdown",
      "metadata": {},
      "source": [
        "## 1. Отбор на основе L1-регуляризации\n",
        "Преимущества:\n",
        "\n",
        "1. Легче понять какие признаки важнее, за счет за нуление\n",
        "2. Борется с переобучением\n",
        "\n",
        "Недостатки:\n",
        "\n",
        "1. Нужно выбирать правильно параметр C\n",
        "\n",
        "## 2. Метод фильтрации (t-статистика)\n",
        "Преимущества:\n",
        "\n",
        "1. Быстро\n",
        "2. Простая интерпретация. Отдельного признака\n",
        "\n",
        "Недостатки:\n",
        "\n",
        "1. Не учитывает зависимость признаков\n",
        "2. Много признаков - плохие результаты\n",
        "\n",
        "## 3. Жадный отбор признаков\n",
        "Преимущества:\n",
        "\n",
        "1. Итереативный подход.\n",
        "2. Самый точный\n",
        "\n",
        "Недостатки:\n",
        "\n",
        "1. Медленная работа\n",
        "2. Может оказаться в локальном минимуме"
      ]
    },
    {
      "cell_type": "markdown",
      "metadata": {
        "id": "mZ0ZI7v1VB9z"
      },
      "source": [
        "# **Часть 3. Обучение моделей на текстовых данных. (3.5 балла)**"
      ]
    },
    {
      "cell_type": "markdown",
      "metadata": {
        "ExecuteTime": {
          "end_time": "2018-10-11T20:41:54.913436Z",
          "start_time": "2018-10-11T20:41:54.907515Z"
        },
        "id": "KBWjsPSSVB9z"
      },
      "source": [
        " ### **Подготовка данных из реального мира.**\n",
        "\n",
        "Загрузите данные с конкурса  [Natural Language Processing with Disaster Tweets](https://www.kaggle.com/competitions/nlp-getting-started/data?select=train.csv) (вам нужна только обучающая выборка, файл `train.csv`). Задача состоит в определении постов, сообщающих о чрезвычайной ситуации. В рамках домашнего задания, этот набор данных будет отличным полем для тренировки в обработке признаков."
      ]
    },
    {
      "cell_type": "code",
      "execution_count": 78,
      "metadata": {
        "ExecuteTime": {
          "end_time": "2018-10-12T07:36:04.765536Z",
          "start_time": "2018-10-12T07:35:57.814973Z"
        },
        "id": "UF_dt9lcVB90"
      },
      "outputs": [
        {
          "data": {
            "text/html": [
              "<div>\n",
              "<style scoped>\n",
              "    .dataframe tbody tr th:only-of-type {\n",
              "        vertical-align: middle;\n",
              "    }\n",
              "\n",
              "    .dataframe tbody tr th {\n",
              "        vertical-align: top;\n",
              "    }\n",
              "\n",
              "    .dataframe thead th {\n",
              "        text-align: right;\n",
              "    }\n",
              "</style>\n",
              "<table border=\"1\" class=\"dataframe\">\n",
              "  <thead>\n",
              "    <tr style=\"text-align: right;\">\n",
              "      <th></th>\n",
              "      <th>id</th>\n",
              "      <th>keyword</th>\n",
              "      <th>location</th>\n",
              "      <th>text</th>\n",
              "      <th>target</th>\n",
              "    </tr>\n",
              "  </thead>\n",
              "  <tbody>\n",
              "    <tr>\n",
              "      <th>0</th>\n",
              "      <td>1</td>\n",
              "      <td>NaN</td>\n",
              "      <td>NaN</td>\n",
              "      <td>Our Deeds are the Reason of this #earthquake M...</td>\n",
              "      <td>1</td>\n",
              "    </tr>\n",
              "    <tr>\n",
              "      <th>1</th>\n",
              "      <td>4</td>\n",
              "      <td>NaN</td>\n",
              "      <td>NaN</td>\n",
              "      <td>Forest fire near La Ronge Sask. Canada</td>\n",
              "      <td>1</td>\n",
              "    </tr>\n",
              "    <tr>\n",
              "      <th>2</th>\n",
              "      <td>5</td>\n",
              "      <td>NaN</td>\n",
              "      <td>NaN</td>\n",
              "      <td>All residents asked to 'shelter in place' are ...</td>\n",
              "      <td>1</td>\n",
              "    </tr>\n",
              "    <tr>\n",
              "      <th>3</th>\n",
              "      <td>6</td>\n",
              "      <td>NaN</td>\n",
              "      <td>NaN</td>\n",
              "      <td>13,000 people receive #wildfires evacuation or...</td>\n",
              "      <td>1</td>\n",
              "    </tr>\n",
              "    <tr>\n",
              "      <th>4</th>\n",
              "      <td>7</td>\n",
              "      <td>NaN</td>\n",
              "      <td>NaN</td>\n",
              "      <td>Just got sent this photo from Ruby #Alaska as ...</td>\n",
              "      <td>1</td>\n",
              "    </tr>\n",
              "  </tbody>\n",
              "</table>\n",
              "</div>"
            ],
            "text/plain": [
              "   id keyword location                                               text  \\\n",
              "0   1     NaN      NaN  Our Deeds are the Reason of this #earthquake M...   \n",
              "1   4     NaN      NaN             Forest fire near La Ronge Sask. Canada   \n",
              "2   5     NaN      NaN  All residents asked to 'shelter in place' are ...   \n",
              "3   6     NaN      NaN  13,000 people receive #wildfires evacuation or...   \n",
              "4   7     NaN      NaN  Just got sent this photo from Ruby #Alaska as ...   \n",
              "\n",
              "   target  \n",
              "0       1  \n",
              "1       1  \n",
              "2       1  \n",
              "3       1  \n",
              "4       1  "
            ]
          },
          "execution_count": 78,
          "metadata": {},
          "output_type": "execute_result"
        }
      ],
      "source": [
        "from sklearn.model_selection import train_test_split\n",
        "\n",
        "PATH = \"./data/nlp.csv\"\n",
        "data = pd.read_csv(PATH)\n",
        "\n",
        "data.head()"
      ]
    },
    {
      "cell_type": "markdown",
      "metadata": {
        "id": "3REJEAhnPEAq"
      },
      "source": [
        "### **Задание 10. Базовая предобработка (0.5 баллов).**\n",
        "\n",
        "- Выведите на экран информацию о пропусках в данных. Если пропуски присутствуют заполните их пустой строкой."
      ]
    },
    {
      "cell_type": "code",
      "execution_count": 80,
      "metadata": {
        "id": "x9AF0Ns6PPxO"
      },
      "outputs": [
        {
          "data": {
            "text/plain": [
              "id             0\n",
              "keyword       61\n",
              "location    2533\n",
              "text           0\n",
              "target         0\n",
              "dtype: int64"
            ]
          },
          "execution_count": 80,
          "metadata": {},
          "output_type": "execute_result"
        }
      ],
      "source": [
        "data.isnull().sum()"
      ]
    },
    {
      "cell_type": "code",
      "execution_count": 81,
      "metadata": {},
      "outputs": [
        {
          "name": "stdout",
          "output_type": "stream",
          "text": [
            "id          0\n",
            "keyword     0\n",
            "location    0\n",
            "text        0\n",
            "target      0\n",
            "dtype: int64\n"
          ]
        }
      ],
      "source": [
        "data.fillna('', inplace=True)\n",
        "\n",
        "print(data.isnull().sum())"
      ]
    },
    {
      "cell_type": "markdown",
      "metadata": {
        "id": "Nh1tdl-EPorP"
      },
      "source": [
        "- Проанализируйте количество уникальных значений в числовых столбцах. Сделайте выводы."
      ]
    },
    {
      "cell_type": "code",
      "execution_count": 82,
      "metadata": {
        "id": "uLjxpt7bPnST"
      },
      "outputs": [
        {
          "name": "stdout",
          "output_type": "stream",
          "text": [
            "id        7613\n",
            "target       2\n",
            "dtype: int64\n",
            "Количество числовых столбцов: 2\n"
          ]
        }
      ],
      "source": [
        "numeric_columns = data.select_dtypes(include=['int64', 'float64'])\n",
        "\n",
        "unique_counts = numeric_columns.nunique()\n",
        "\n",
        "print(unique_counts)\n",
        "\n",
        "print(\"Количество числовых столбцов:\", len(numeric_columns.columns))"
      ]
    },
    {
      "cell_type": "markdown",
      "metadata": {
        "id": "U0C59BsSQU3H"
      },
      "source": [
        "- Проанализируйте соотношение классов в целевой переменной. Почему значимо это учитывать?"
      ]
    },
    {
      "cell_type": "code",
      "execution_count": 83,
      "metadata": {
        "id": "STjfzgq9Qecn"
      },
      "outputs": [
        {
          "name": "stdout",
          "output_type": "stream",
          "text": [
            "target\n",
            "0    4342\n",
            "1    3271\n",
            "Name: count, dtype: int64\n"
          ]
        }
      ],
      "source": [
        "target_column = 'target'\n",
        "class_counts = data[target_column].value_counts()\n",
        "print(class_counts)"
      ]
    },
    {
      "cell_type": "code",
      "execution_count": 85,
      "metadata": {},
      "outputs": [
        {
          "data": {
            "image/png": "[encoded data removed]",
            "text/plain": [
              "<Figure size 800x500 with 1 Axes>"
            ]
          },
          "metadata": {},
          "output_type": "display_data"
        }
      ],
      "source": [
        "import seaborn as sns\n",
        "\n",
        "plt.figure(figsize=(8, 5))\n",
        "sns.barplot(x=class_counts.index, y=class_counts.values)\n",
        "plt.title('Соотношение классов')\n",
        "plt.xlabel('Классы')\n",
        "plt.ylabel('Число экземпляров')\n",
        "plt.show()"
      ]
    },
    {
      "cell_type": "markdown",
      "metadata": {
        "id": "A7xePrWCPfEm"
      },
      "source": [
        "- Объедините все три текстовых столбца в один (вам поможет конкатенация строк)"
      ]
    },
    {
      "cell_type": "code",
      "execution_count": 86,
      "metadata": {
        "id": "ESR7etPOQw0m"
      },
      "outputs": [
        {
          "name": "stdout",
          "output_type": "stream",
          "text": [
            "                                       combined_text\n",
            "0    Our Deeds are the Reason of this #earthquake...\n",
            "1             Forest fire near La Ronge Sask. Canada\n",
            "2    All residents asked to 'shelter in place' ar...\n",
            "3    13,000 people receive #wildfires evacuation ...\n",
            "4    Just got sent this photo from Ruby #Alaska a...\n"
          ]
        }
      ],
      "source": [
        "text_columns = ['keyword', 'location', 'text']\n",
        "\n",
        "data['combined_text'] = data[text_columns].astype(str).agg(' '.join, axis=1)\n",
        "\n",
        "print(data[['combined_text']].head())"
      ]
    },
    {
      "cell_type": "markdown",
      "metadata": {
        "id": "syMOkjGcSA3z"
      },
      "source": [
        "- Наконец, поделите данные на тренировочную и тестовую выборки."
      ]
    },
    {
      "cell_type": "code",
      "execution_count": 87,
      "metadata": {
        "id": "pRuY5gu2O00y"
      },
      "outputs": [],
      "source": [
        "X = data['combined_text']\n",
        "y = data['target']  \n",
        "X_train, X_test, y_train, y_test = train_test_split(X, y, test_size=0.2, random_state=42, stratify=y)"
      ]
    },
    {
      "cell_type": "markdown",
      "metadata": {
        "id": "fxmJha91VB90"
      },
      "source": [
        "### **Задание 11. Базовые модели. (1 балл).**\n",
        "\n",
        "Данные, собираемые с сайтов, часто содержат мусор не информативный для моделей. Посмотрите, какого качества данные здесь. Для этого:\n",
        "- Примените CountVectorizer из sklearn к сырым даным. Какого размера получилась матрица?"
      ]
    },
    {
      "cell_type": "code",
      "execution_count": 92,
      "metadata": {
        "id": "IcWyCKFFVB90"
      },
      "outputs": [
        {
          "name": "stdout",
          "output_type": "stream",
          "text": [
            "Размер матрицы признаков: (7613, 23489)\n"
          ]
        }
      ],
      "source": [
        "from sklearn.feature_extraction.text import CountVectorizer\n",
        "\n",
        "vectorizer = CountVectorizer()\n",
        "X_train_vectorized = vectorizer.fit_transform(X_train)\n",
        "X_test_vectorized = vectorizer.transform(X_test)\n",
        "\n",
        "print(\"Размер матрицы признаков:\", X.shape)"
      ]
    },
    {
      "cell_type": "markdown",
      "metadata": {
        "id": "i6qBosrkWO1M"
      },
      "source": [
        "- Обучите логистическую регрессию на полученном наборе. Какое качество `f1` у модели получилось на тестовых данных?"
      ]
    },
    {
      "cell_type": "code",
      "execution_count": 96,
      "metadata": {
        "id": "mLacyuMLV5DR"
      },
      "outputs": [
        {
          "name": "stdout",
          "output_type": "stream",
          "text": [
            "F1 Score на тестовых данных: 0.8076494717785048\n"
          ]
        }
      ],
      "source": [
        "from sklearn.metrics import f1_score\n",
        "\n",
        "model = LogisticRegression()\n",
        "model.fit(X_train_vectorized, y_train)\n",
        "\n",
        "y_pred = model.predict(X_test_vectorized)\n",
        "\n",
        "f1 = f1_score(y_test, y_pred, average='weighted')\n",
        "print(\"F1 Score на тестовых данных:\", f1)"
      ]
    },
    {
      "cell_type": "markdown",
      "metadata": {
        "id": "v7DrpPhVaHUP"
      },
      "source": [
        "- Обучите SVC на тех же данных с гиперпараметрами по умолчанию. Измерьте качество (`f1`) на тестовых данных и опишите результат. Проанализируйте качество и скорость обучения."
      ]
    },
    {
      "cell_type": "code",
      "execution_count": 101,
      "metadata": {
        "id": "9rpSS46UadkB"
      },
      "outputs": [],
      "source": [
        "from sklearn.svm import SVC\n",
        "\n",
        "model_svc = SVC()\n",
        "start_time = time.time() \n",
        "model_svc.fit(X_train_vectorized, y_train)\n",
        "end_time = time.time() \n",
        "\n",
        "y_pred_svc = model_svc.predict(X_test_vectorized)\n",
        "\n",
        "f1_svc = f1_score(y_test, y_pred_svc, average='weighted')"
      ]
    },
    {
      "cell_type": "code",
      "execution_count": 100,
      "metadata": {},
      "outputs": [
        {
          "name": "stdout",
          "output_type": "stream",
          "text": [
            "F1 Score на тестовых данных (SVC): 0.8029392452975939\n",
            "Время обучения модели SVC: 3.280402183532715 секунд\n"
          ]
        }
      ],
      "source": [
        "print(\"F1 Score на тестовых данных (SVC):\", f1_svc)\n",
        "print(\"Время обучения модели SVC:\", end_time - start_time, \"секунд\")"
      ]
    },
    {
      "cell_type": "markdown",
      "metadata": {
        "id": "01Pjk6sVawv_"
      },
      "source": [
        "### **Задание 12. Улучшение базовых моделей за счет данных. (0.5 балла).**"
      ]
    },
    {
      "cell_type": "markdown",
      "metadata": {
        "id": "7OwA5U3lVD2V"
      },
      "source": [
        "- Подберите гиперпараметры CountVectorizer так, чтобы признаков было минимум в 4 раза меньше, чем объектов, а качество модели при этом изменилось не более чем на $\\pm 0.07$. Опишите подобранные гиперпараметры и на что они влияют (0.5 балла).\n",
        "\n",
        "Обучайте и логистическую регрессию, и SVC."
      ]
    },
    {
      "cell_type": "code",
      "execution_count": 102,
      "metadata": {
        "id": "9SxcCaksUSSE"
      },
      "outputs": [],
      "source": [
        "max_features = len(X_train) // 4\n",
        "vectorizer = CountVectorizer(max_features=max_features, min_df=0.02, max_df=0.8)"
      ]
    },
    {
      "cell_type": "code",
      "execution_count": 103,
      "metadata": {},
      "outputs": [],
      "source": [
        "X_train_vectorized = vectorizer.fit_transform(X_train)\n",
        "X_test_vectorized = vectorizer.transform(X_test)"
      ]
    },
    {
      "cell_type": "code",
      "execution_count": 104,
      "metadata": {},
      "outputs": [],
      "source": [
        "model_lr = LogisticRegression()\n",
        "start_time_lr = time.time()\n",
        "model_lr.fit(X_train_vectorized, y_train)\n",
        "end_time_lr = time.time()\n",
        "\n",
        "y_pred_lr = model_lr.predict(X_test_vectorized)\n",
        "\n",
        "f1_lr = f1_score(y_test, y_pred_lr, average='weighted')"
      ]
    },
    {
      "cell_type": "code",
      "execution_count": 105,
      "metadata": {},
      "outputs": [],
      "source": [
        "model_svc = SVC()\n",
        "start_time_svc = time.time()\n",
        "model_svc.fit(X_train_vectorized, y_train)\n",
        "end_time_svc = time.time()\n",
        "\n",
        "y_pred_svc = model_svc.predict(X_test_vectorized)\n",
        "\n",
        "f1_svc = f1_score(y_test, y_pred_svc, average='weighted')"
      ]
    },
    {
      "cell_type": "code",
      "execution_count": 106,
      "metadata": {},
      "outputs": [
        {
          "name": "stdout",
          "output_type": "stream",
          "text": [
            "F1 Score на тестовых данных (Logistic Regression): 0.66970598415077\n",
            "Время обучения модели Logistic Regression: 0.011003255844116211 секунд\n",
            "F1 Score на тестовых данных (SVC): 0.6996436785888224\n",
            "Время обучения модели SVC: 1.135416030883789 секунд\n"
          ]
        }
      ],
      "source": [
        "print(\"F1 Score на тестовых данных (Logistic Regression):\", f1_lr)\n",
        "print(\"Время обучения модели Logistic Regression:\", end_time_lr - start_time_lr, \"секунд\")\n",
        "\n",
        "print(\"F1 Score на тестовых данных (SVC):\", f1_svc)\n",
        "print(\"Время обучения модели SVC:\", end_time_svc - start_time_svc, \"секунд\")"
      ]
    },
    {
      "cell_type": "markdown",
      "metadata": {},
      "source": [
        "min_df - игнор редких слов\n",
        "\n",
        "max_df - слишком частые слова"
      ]
    },
    {
      "cell_type": "markdown",
      "metadata": {},
      "source": [
        "Обучению так себе помогло"
      ]
    },
    {
      "cell_type": "markdown",
      "metadata": {
        "id": "AGTy5d7Vc-O9"
      },
      "source": [
        "### **Задание 13. Улучшение базовых моделей путем подбора гиперпараметров. (1 балл).**\n",
        "- Попробуйте подбирать разные гиперпараметры для логистической регрессии. Опишите подбираемые гиперапарметры и ваши результаты (0.5 балла)"
      ]
    },
    {
      "cell_type": "code",
      "execution_count": 108,
      "metadata": {
        "id": "EJNZOPy1dZQx"
      },
      "outputs": [
        {
          "name": "stdout",
          "output_type": "stream",
          "text": [
            "Fitting 5 folds for each of 10 candidates, totalling 50 fits\n",
            "[CV] END ..............C=0.001, penalty=l1, solver=liblinear; total time=   0.0s\n",
            "[CV] END ..............C=0.001, penalty=l1, solver=liblinear; total time=   0.0s\n",
            "[CV] END ..............C=0.001, penalty=l1, solver=liblinear; total time=   0.0s\n",
            "[CV] END ..............C=0.001, penalty=l1, solver=liblinear; total time=   0.0s\n",
            "[CV] END ..............C=0.001, penalty=l1, solver=liblinear; total time=   0.0s\n",
            "[CV] END ..............C=0.001, penalty=l2, solver=liblinear; total time=   0.0s\n",
            "[CV] END ..............C=0.001, penalty=l2, solver=liblinear; total time=   0.0s\n",
            "[CV] END ..............C=0.001, penalty=l2, solver=liblinear; total time=   0.0s\n",
            "[CV] END ..............C=0.001, penalty=l2, solver=liblinear; total time=   0.0s\n",
            "[CV] END ..............C=0.001, penalty=l2, solver=liblinear; total time=   0.0s\n",
            "[CV] END ...............C=0.01, penalty=l1, solver=liblinear; total time=   0.0s\n",
            "[CV] END ...............C=0.01, penalty=l1, solver=liblinear; total time=   0.0s\n",
            "[CV] END ...............C=0.01, penalty=l1, solver=liblinear; total time=   0.0s\n",
            "[CV] END ...............C=0.01, penalty=l1, solver=liblinear; total time=   0.0s\n",
            "[CV] END ...............C=0.01, penalty=l1, solver=liblinear; total time=   0.0s\n",
            "[CV] END ...............C=0.01, penalty=l2, solver=liblinear; total time=   0.0s\n",
            "[CV] END ...............C=0.01, penalty=l2, solver=liblinear; total time=   0.0s\n",
            "[CV] END ...............C=0.01, penalty=l2, solver=liblinear; total time=   0.0s\n",
            "[CV] END ...............C=0.01, penalty=l2, solver=liblinear; total time=   0.0s\n",
            "[CV] END ................C=0.1, penalty=l1, solver=liblinear; total time=   0.0s\n",
            "[CV] END ...............C=0.01, penalty=l2, solver=liblinear; total time=   0.0s\n",
            "[CV] END ................C=0.1, penalty=l1, solver=liblinear; total time=   0.0s\n",
            "[CV] END ................C=0.1, penalty=l1, solver=liblinear; total time=   0.0s\n",
            "[CV] END ................C=0.1, penalty=l1, solver=liblinear; total time=   0.0s\n",
            "[CV] END ................C=0.1, penalty=l1, solver=liblinear; total time=   0.0s\n",
            "[CV] END ................C=0.1, penalty=l2, solver=liblinear; total time=   0.0s\n",
            "[CV] END ................C=0.1, penalty=l2, solver=liblinear; total time=   0.0s\n",
            "[CV] END ................C=0.1, penalty=l2, solver=liblinear; total time=   0.0s\n",
            "[CV] END ................C=0.1, penalty=l2, solver=liblinear; total time=   0.0s\n",
            "[CV] END ................C=0.1, penalty=l2, solver=liblinear; total time=   0.0s\n",
            "[CV] END ..................C=1, penalty=l2, solver=liblinear; total time=   0.0s\n",
            "[CV] END ..................C=1, penalty=l1, solver=liblinear; total time=   0.0s\n",
            "[CV] END ..................C=1, penalty=l2, solver=liblinear; total time=   0.0s\n",
            "[CV] END ..................C=1, penalty=l1, solver=liblinear; total time=   0.0s\n",
            "[CV] END ..................C=1, penalty=l2, solver=liblinear; total time=   0.0s\n",
            "[CV] END ..................C=1, penalty=l2, solver=liblinear; total time=   0.0s\n",
            "[CV] END ..................C=1, penalty=l1, solver=liblinear; total time=   0.0s\n",
            "[CV] END ..................C=1, penalty=l1, solver=liblinear; total time=   0.0s\n",
            "[CV] END ..................C=1, penalty=l2, solver=liblinear; total time=   0.0s\n",
            "[CV] END ..................C=1, penalty=l1, solver=liblinear; total time=   0.0s\n",
            "[CV] END .................C=10, penalty=l2, solver=liblinear; total time=   0.0s\n",
            "[CV] END .................C=10, penalty=l2, solver=liblinear; total time=   0.0s\n",
            "[CV] END .................C=10, penalty=l2, solver=liblinear; total time=   0.0s\n",
            "[CV] END .................C=10, penalty=l1, solver=liblinear; total time=   0.0s\n",
            "[CV] END .................C=10, penalty=l2, solver=liblinear; total time=   0.0s\n",
            "[CV] END .................C=10, penalty=l1, solver=liblinear; total time=   0.0s\n",
            "[CV] END .................C=10, penalty=l1, solver=liblinear; total time=   0.0s\n",
            "[CV] END .................C=10, penalty=l2, solver=liblinear; total time=   0.0s\n",
            "[CV] END .................C=10, penalty=l1, solver=liblinear; total time=   0.0s\n",
            "[CV] END .................C=10, penalty=l1, solver=liblinear; total time=   0.0s\n",
            "Лучшие гиперпараметры: {'C': 1, 'penalty': 'l2', 'solver': 'liblinear'}\n",
            "Лучший F1 Score на тренинговых данных: 0.681758664274725\n"
          ]
        }
      ],
      "source": [
        "param_grid = {\n",
        "    'C': [0.001, 0.01, 0.1, 1, 10],\n",
        "    'penalty': ['l1', 'l2'],\n",
        "    'solver': ['liblinear'], # Для L1\n",
        "}\n",
        "\n",
        "log_reg = LogisticRegression()\n",
        "\n",
        "grid_search = GridSearchCV(log_reg, param_grid, cv=5, scoring='f1_weighted', n_jobs=-1, verbose=2)\n",
        "grid_search.fit(X_train_vectorized, y_train)\n",
        "\n",
        "best_params = grid_search.best_params_\n",
        "best_f1 = grid_search.best_score_\n",
        "\n",
        "print(\"Лучшие гиперпараметры:\", best_params)\n",
        "print(\"Лучший F1 Score на тренинговых данных:\", best_f1)"
      ]
    },
    {
      "cell_type": "markdown",
      "metadata": {
        "id": "q8TY3Js6dchY"
      },
      "source": [
        "- Попробуйте подбирать разные гиперпараметры для модели SVC. Опишите подбираемые гиперапарметры и ваши результаты (0.5 балла)"
      ]
    },
    {
      "cell_type": "code",
      "execution_count": 111,
      "metadata": {
        "id": "NzpJ0zP_db19"
      },
      "outputs": [
        {
          "name": "stdout",
          "output_type": "stream",
          "text": [
            "Fitting 2 folds for each of 96 candidates, totalling 192 fits\n",
            "[CV] END ......C=0.001, degree=2, gamma=scale, kernel=linear; total time=   0.8s\n",
            "[CV] END ........C=0.001, degree=2, gamma=scale, kernel=poly; total time=   0.8s\n",
            "[CV] END ......C=0.001, degree=2, gamma=scale, kernel=linear; total time=   0.9s\n",
            "[CV] END .......C=0.001, degree=2, gamma=auto, kernel=linear; total time=   0.8s\n",
            "[CV] END ........C=0.001, degree=2, gamma=scale, kernel=poly; total time=   0.8s\n",
            "[CV] END .......C=0.001, degree=2, gamma=auto, kernel=linear; total time=   0.8s\n",
            "[CV] END .........C=0.001, degree=2, gamma=scale, kernel=rbf; total time=   0.9s\n",
            "[CV] END .........C=0.001, degree=2, gamma=scale, kernel=rbf; total time=   0.9s\n",
            "[CV] END .........C=0.001, degree=2, gamma=auto, kernel=poly; total time=   0.5s\n",
            "[CV] END .........C=0.001, degree=2, gamma=auto, kernel=poly; total time=   0.7s\n",
            "[CV] END ......C=0.001, degree=2, gamma=0.001, kernel=linear; total time=   0.6s\n",
            "[CV] END ..........C=0.001, degree=2, gamma=auto, kernel=rbf; total time=   0.7s\n",
            "[CV] END ..........C=0.001, degree=2, gamma=auto, kernel=rbf; total time=   0.7s\n",
            "[CV] END ......C=0.001, degree=2, gamma=0.001, kernel=linear; total time=   0.8s\n",
            "[CV] END .........C=0.001, degree=2, gamma=0.001, kernel=rbf; total time=   0.8s\n",
            "[CV] END .........C=0.001, degree=2, gamma=0.001, kernel=rbf; total time=   0.9s\n",
            "[CV] END ........C=0.001, degree=2, gamma=0.001, kernel=poly; total time=   0.6s\n",
            "[CV] END .......C=0.001, degree=2, gamma=0.01, kernel=linear; total time=   0.6s\n",
            "[CV] END ........C=0.001, degree=2, gamma=0.001, kernel=poly; total time=   0.6s\n",
            "[CV] END .......C=0.001, degree=2, gamma=0.01, kernel=linear; total time=   0.6s\n",
            "[CV] END ..........C=0.001, degree=2, gamma=0.01, kernel=rbf; total time=   0.7s\n",
            "[CV] END .........C=0.001, degree=2, gamma=0.01, kernel=poly; total time=   0.7s\n",
            "[CV] END ..........C=0.001, degree=2, gamma=0.01, kernel=rbf; total time=   0.7s\n",
            "[CV] END ......C=0.001, degree=3, gamma=scale, kernel=linear; total time=   0.6s\n",
            "[CV] END .........C=0.001, degree=2, gamma=0.01, kernel=poly; total time=   0.7s\n",
            "[CV] END ......C=0.001, degree=3, gamma=scale, kernel=linear; total time=   0.5s\n",
            "[CV] END .........C=0.001, degree=3, gamma=scale, kernel=rbf; total time=   0.7s\n",
            "[CV] END .........C=0.001, degree=3, gamma=scale, kernel=rbf; total time=   0.7s\n",
            "[CV] END ........C=0.001, degree=3, gamma=scale, kernel=poly; total time=   0.7s\n",
            "[CV] END .......C=0.001, degree=3, gamma=auto, kernel=linear; total time=   0.6s\n",
            "[CV] END .......C=0.001, degree=3, gamma=auto, kernel=linear; total time=   0.7s\n",
            "[CV] END ........C=0.001, degree=3, gamma=scale, kernel=poly; total time=   0.8s\n",
            "[CV] END ..........C=0.001, degree=3, gamma=auto, kernel=rbf; total time=   0.7s\n",
            "[CV] END ..........C=0.001, degree=3, gamma=auto, kernel=rbf; total time=   0.7s\n",
            "[CV] END .........C=0.001, degree=3, gamma=auto, kernel=poly; total time=   0.7s\n",
            "[CV] END .........C=0.001, degree=3, gamma=auto, kernel=poly; total time=   0.7s\n",
            "[CV] END ......C=0.001, degree=3, gamma=0.001, kernel=linear; total time=   0.7s\n",
            "[CV] END ......C=0.001, degree=3, gamma=0.001, kernel=linear; total time=   0.6s\n",
            "[CV] END .........C=0.001, degree=3, gamma=0.001, kernel=rbf; total time=   0.7s\n",
            "[CV] END .........C=0.001, degree=3, gamma=0.001, kernel=rbf; total time=   0.7s\n",
            "[CV] END ........C=0.001, degree=3, gamma=0.001, kernel=poly; total time=   0.7s\n",
            "[CV] END ........C=0.001, degree=3, gamma=0.001, kernel=poly; total time=   0.7s\n",
            "[CV] END .......C=0.001, degree=3, gamma=0.01, kernel=linear; total time=   0.7s\n",
            "[CV] END .......C=0.001, degree=3, gamma=0.01, kernel=linear; total time=   0.7s\n",
            "[CV] END ..........C=0.001, degree=3, gamma=0.01, kernel=rbf; total time=   0.8s\n",
            "[CV] END ..........C=0.001, degree=3, gamma=0.01, kernel=rbf; total time=   0.8s\n",
            "[CV] END .........C=0.001, degree=3, gamma=0.01, kernel=poly; total time=   0.7s\n",
            "[CV] END .......C=0.01, degree=2, gamma=scale, kernel=linear; total time=   0.6s\n",
            "[CV] END .........C=0.001, degree=3, gamma=0.01, kernel=poly; total time=   0.7s\n",
            "[CV] END .......C=0.01, degree=2, gamma=scale, kernel=linear; total time=   0.6s\n",
            "[CV] END ..........C=0.01, degree=2, gamma=scale, kernel=rbf; total time=   0.7s\n",
            "[CV] END ..........C=0.01, degree=2, gamma=scale, kernel=rbf; total time=   0.7s\n",
            "[CV] END .........C=0.01, degree=2, gamma=scale, kernel=poly; total time=   0.6s\n",
            "[CV] END .........C=0.01, degree=2, gamma=scale, kernel=poly; total time=   0.6s\n",
            "[CV] END ........C=0.01, degree=2, gamma=auto, kernel=linear; total time=   0.7s\n",
            "[CV] END ........C=0.01, degree=2, gamma=auto, kernel=linear; total time=   0.7s\n",
            "[CV] END ...........C=0.01, degree=2, gamma=auto, kernel=rbf; total time=   0.7s\n",
            "[CV] END ...........C=0.01, degree=2, gamma=auto, kernel=rbf; total time=   0.7s\n",
            "[CV] END ..........C=0.01, degree=2, gamma=auto, kernel=poly; total time=   0.6s\n",
            "[CV] END .......C=0.01, degree=2, gamma=0.001, kernel=linear; total time=   0.7s\n",
            "[CV] END .......C=0.01, degree=2, gamma=0.001, kernel=linear; total time=   0.6s\n",
            "[CV] END ..........C=0.01, degree=2, gamma=auto, kernel=poly; total time=   0.7s\n",
            "[CV] END ..........C=0.01, degree=2, gamma=0.001, kernel=rbf; total time=   0.6s\n",
            "[CV] END .........C=0.01, degree=2, gamma=0.001, kernel=poly; total time=   0.6s\n",
            "[CV] END ..........C=0.01, degree=2, gamma=0.001, kernel=rbf; total time=   0.8s\n",
            "[CV] END .........C=0.01, degree=2, gamma=0.001, kernel=poly; total time=   0.7s\n",
            "[CV] END ........C=0.01, degree=2, gamma=0.01, kernel=linear; total time=   0.6s\n",
            "[CV] END ........C=0.01, degree=2, gamma=0.01, kernel=linear; total time=   0.7s\n",
            "[CV] END ...........C=0.01, degree=2, gamma=0.01, kernel=rbf; total time=   0.8s\n",
            "[CV] END ...........C=0.01, degree=2, gamma=0.01, kernel=rbf; total time=   0.8s\n",
            "[CV] END .......C=0.01, degree=3, gamma=scale, kernel=linear; total time=   0.6s\n",
            "[CV] END ..........C=0.01, degree=2, gamma=0.01, kernel=poly; total time=   0.8s\n",
            "[CV] END ..........C=0.01, degree=2, gamma=0.01, kernel=poly; total time=   0.8s\n",
            "[CV] END ..........C=0.01, degree=3, gamma=scale, kernel=rbf; total time=   0.7s\n",
            "[CV] END .......C=0.01, degree=3, gamma=scale, kernel=linear; total time=   0.7s\n",
            "[CV] END ..........C=0.01, degree=3, gamma=scale, kernel=rbf; total time=   0.7s\n",
            "[CV] END .........C=0.01, degree=3, gamma=scale, kernel=poly; total time=   0.7s\n",
            "[CV] END .........C=0.01, degree=3, gamma=scale, kernel=poly; total time=   0.7s\n",
            "[CV] END ........C=0.01, degree=3, gamma=auto, kernel=linear; total time=   0.7s\n",
            "[CV] END ........C=0.01, degree=3, gamma=auto, kernel=linear; total time=   0.7s\n",
            "[CV] END ..........C=0.01, degree=3, gamma=auto, kernel=poly; total time=   0.6s\n",
            "[CV] END ...........C=0.01, degree=3, gamma=auto, kernel=rbf; total time=   0.7s\n",
            "[CV] END ...........C=0.01, degree=3, gamma=auto, kernel=rbf; total time=   0.8s\n",
            "[CV] END .......C=0.01, degree=3, gamma=0.001, kernel=linear; total time=   0.6s\n",
            "[CV] END ..........C=0.01, degree=3, gamma=auto, kernel=poly; total time=   0.7s\n",
            "[CV] END .......C=0.01, degree=3, gamma=0.001, kernel=linear; total time=   0.7s\n",
            "[CV] END ..........C=0.01, degree=3, gamma=0.001, kernel=rbf; total time=   0.7s\n",
            "[CV] END ..........C=0.01, degree=3, gamma=0.001, kernel=rbf; total time=   0.8s\n",
            "[CV] END .........C=0.01, degree=3, gamma=0.001, kernel=poly; total time=   0.7s\n",
            "[CV] END .........C=0.01, degree=3, gamma=0.001, kernel=poly; total time=   0.7s\n",
            "[CV] END ........C=0.01, degree=3, gamma=0.01, kernel=linear; total time=   0.6s\n",
            "[CV] END ........C=0.01, degree=3, gamma=0.01, kernel=linear; total time=   0.6s\n",
            "[CV] END ........C=0.1, degree=2, gamma=scale, kernel=linear; total time=   0.5s\n",
            "[CV] END ..........C=0.01, degree=3, gamma=0.01, kernel=poly; total time=   0.7s\n",
            "[CV] END ...........C=0.01, degree=3, gamma=0.01, kernel=rbf; total time=   0.8s\n",
            "[CV] END ..........C=0.01, degree=3, gamma=0.01, kernel=poly; total time=   0.6s\n",
            "[CV] END ........C=0.1, degree=2, gamma=scale, kernel=linear; total time=   0.5s\n",
            "[CV] END ...........C=0.01, degree=3, gamma=0.01, kernel=rbf; total time=   0.8s\n",
            "[CV] END ...........C=0.1, degree=2, gamma=scale, kernel=rbf; total time=   0.6s\n",
            "[CV] END ...........C=0.1, degree=2, gamma=scale, kernel=rbf; total time=   0.9s\n",
            "[CV] END .........C=0.1, degree=2, gamma=auto, kernel=linear; total time=   0.6s\n",
            "[CV] END ..........C=0.1, degree=2, gamma=scale, kernel=poly; total time=   0.6s\n",
            "[CV] END ..........C=0.1, degree=2, gamma=scale, kernel=poly; total time=   0.7s\n",
            "[CV] END .........C=0.1, degree=2, gamma=auto, kernel=linear; total time=   0.6s\n",
            "[CV] END ............C=0.1, degree=2, gamma=auto, kernel=rbf; total time=   0.7s\n",
            "[CV] END ...........C=0.1, degree=2, gamma=auto, kernel=poly; total time=   0.7s\n",
            "[CV] END ............C=0.1, degree=2, gamma=auto, kernel=rbf; total time=   0.8s\n",
            "[CV] END ........C=0.1, degree=2, gamma=0.001, kernel=linear; total time=   0.5s\n",
            "[CV] END ...........C=0.1, degree=2, gamma=auto, kernel=poly; total time=   0.6s\n",
            "[CV] END ........C=0.1, degree=2, gamma=0.001, kernel=linear; total time=   0.6s\n",
            "[CV] END ...........C=0.1, degree=2, gamma=0.001, kernel=rbf; total time=   0.8s\n",
            "[CV] END ...........C=0.1, degree=2, gamma=0.001, kernel=rbf; total time=   0.9s\n",
            "[CV] END .........C=0.1, degree=2, gamma=0.01, kernel=linear; total time=   0.7s\n",
            "[CV] END ..........C=0.1, degree=2, gamma=0.001, kernel=poly; total time=   0.8s\n",
            "[CV] END ..........C=0.1, degree=2, gamma=0.001, kernel=poly; total time=   0.8s\n",
            "[CV] END .........C=0.1, degree=2, gamma=0.01, kernel=linear; total time=   0.9s\n",
            "[CV] END ............C=0.1, degree=2, gamma=0.01, kernel=rbf; total time=   1.1s\n",
            "[CV] END ............C=0.1, degree=2, gamma=0.01, kernel=rbf; total time=   1.1s\n",
            "[CV] END ...........C=0.1, degree=2, gamma=0.01, kernel=poly; total time=   0.9s\n",
            "[CV] END ........C=0.1, degree=3, gamma=scale, kernel=linear; total time=   0.8s\n",
            "[CV] END ...........C=0.1, degree=2, gamma=0.01, kernel=poly; total time=   0.9s\n",
            "[CV] END ........C=0.1, degree=3, gamma=scale, kernel=linear; total time=   0.8s\n",
            "[CV] END ...........C=0.1, degree=3, gamma=scale, kernel=rbf; total time=   1.0s\n",
            "[CV] END ...........C=0.1, degree=3, gamma=scale, kernel=rbf; total time=   1.0s\n",
            "[CV] END .........C=0.1, degree=3, gamma=auto, kernel=linear; total time=   0.8s\n",
            "[CV] END .........C=0.1, degree=3, gamma=auto, kernel=linear; total time=   0.8s\n",
            "[CV] END ..........C=0.1, degree=3, gamma=scale, kernel=poly; total time=   0.9s\n",
            "[CV] END ..........C=0.1, degree=3, gamma=scale, kernel=poly; total time=   0.9s\n",
            "[CV] END ............C=0.1, degree=3, gamma=auto, kernel=rbf; total time=   0.9s\n",
            "[CV] END ............C=0.1, degree=3, gamma=auto, kernel=rbf; total time=   1.0s\n",
            "[CV] END ...........C=0.1, degree=3, gamma=auto, kernel=poly; total time=   0.8s\n",
            "[CV] END ........C=0.1, degree=3, gamma=0.001, kernel=linear; total time=   0.6s\n",
            "[CV] END ........C=0.1, degree=3, gamma=0.001, kernel=linear; total time=   0.6s\n",
            "[CV] END ...........C=0.1, degree=3, gamma=auto, kernel=poly; total time=   0.8s\n",
            "[CV] END ...........C=0.1, degree=3, gamma=0.001, kernel=rbf; total time=   0.7s\n",
            "[CV] END ...........C=0.1, degree=3, gamma=0.001, kernel=rbf; total time=   0.7s\n",
            "[CV] END .........C=0.1, degree=3, gamma=0.01, kernel=linear; total time=   0.6s\n",
            "[CV] END ..........C=0.1, degree=3, gamma=0.001, kernel=poly; total time=   0.8s\n",
            "[CV] END ..........C=0.1, degree=3, gamma=0.001, kernel=poly; total time=   0.8s\n",
            "[CV] END .........C=0.1, degree=3, gamma=0.01, kernel=linear; total time=   0.7s\n",
            "[CV] END ............C=0.1, degree=3, gamma=0.01, kernel=rbf; total time=   0.9s\n",
            "[CV] END ............C=0.1, degree=3, gamma=0.01, kernel=rbf; total time=   0.9s\n",
            "[CV] END ...........C=0.1, degree=3, gamma=0.01, kernel=poly; total time=   0.8s\n",
            "[CV] END ...........C=0.1, degree=3, gamma=0.01, kernel=poly; total time=   0.8s\n",
            "[CV] END ..........C=1, degree=2, gamma=scale, kernel=linear; total time=   0.8s\n",
            "[CV] END ..........C=1, degree=2, gamma=scale, kernel=linear; total time=   0.7s\n",
            "[CV] END .............C=1, degree=2, gamma=scale, kernel=rbf; total time=   0.9s\n",
            "[CV] END .............C=1, degree=2, gamma=scale, kernel=rbf; total time=   0.7s\n",
            "[CV] END ............C=1, degree=2, gamma=scale, kernel=poly; total time=   0.6s\n",
            "[CV] END ...........C=1, degree=2, gamma=auto, kernel=linear; total time=   0.6s\n",
            "[CV] END ............C=1, degree=2, gamma=scale, kernel=poly; total time=   0.6s\n",
            "[CV] END ...........C=1, degree=2, gamma=auto, kernel=linear; total time=   0.6s\n",
            "[CV] END ..............C=1, degree=2, gamma=auto, kernel=rbf; total time=   0.6s\n",
            "[CV] END ..............C=1, degree=2, gamma=auto, kernel=rbf; total time=   0.7s\n",
            "[CV] END .............C=1, degree=2, gamma=auto, kernel=poly; total time=   0.6s\n",
            "[CV] END .............C=1, degree=2, gamma=auto, kernel=poly; total time=   0.6s\n",
            "[CV] END ..........C=1, degree=2, gamma=0.001, kernel=linear; total time=   0.7s\n",
            "[CV] END ..........C=1, degree=2, gamma=0.001, kernel=linear; total time=   0.6s\n",
            "[CV] END .............C=1, degree=2, gamma=0.001, kernel=rbf; total time=   0.8s\n",
            "[CV] END ............C=1, degree=2, gamma=0.001, kernel=poly; total time=   0.7s\n",
            "[CV] END .............C=1, degree=2, gamma=0.001, kernel=rbf; total time=   0.8s\n",
            "[CV] END ............C=1, degree=2, gamma=0.001, kernel=poly; total time=   0.7s\n",
            "[CV] END ...........C=1, degree=2, gamma=0.01, kernel=linear; total time=   0.6s\n",
            "[CV] END ...........C=1, degree=2, gamma=0.01, kernel=linear; total time=   0.6s\n",
            "[CV] END ..............C=1, degree=2, gamma=0.01, kernel=rbf; total time=   0.6s\n",
            "[CV] END ..............C=1, degree=2, gamma=0.01, kernel=rbf; total time=   0.7s\n",
            "[CV] END .............C=1, degree=2, gamma=0.01, kernel=poly; total time=   0.6s\n",
            "[CV] END ..........C=1, degree=3, gamma=scale, kernel=linear; total time=   0.6s\n",
            "[CV] END .............C=1, degree=2, gamma=0.01, kernel=poly; total time=   0.7s\n",
            "[CV] END ..........C=1, degree=3, gamma=scale, kernel=linear; total time=   0.7s\n",
            "[CV] END .............C=1, degree=3, gamma=scale, kernel=rbf; total time=   0.7s\n",
            "[CV] END .............C=1, degree=3, gamma=scale, kernel=rbf; total time=   0.7s\n",
            "[CV] END ............C=1, degree=3, gamma=scale, kernel=poly; total time=   0.7s\n",
            "[CV] END ............C=1, degree=3, gamma=scale, kernel=poly; total time=   0.7s\n",
            "[CV] END ...........C=1, degree=3, gamma=auto, kernel=linear; total time=   0.6s\n",
            "[CV] END ...........C=1, degree=3, gamma=auto, kernel=linear; total time=   0.7s\n",
            "[CV] END ..............C=1, degree=3, gamma=auto, kernel=rbf; total time=   0.7s\n",
            "[CV] END ..............C=1, degree=3, gamma=auto, kernel=rbf; total time=   0.6s\n",
            "[CV] END ..........C=1, degree=3, gamma=0.001, kernel=linear; total time=   0.6s\n",
            "[CV] END .............C=1, degree=3, gamma=auto, kernel=poly; total time=   0.7s\n",
            "[CV] END ..........C=1, degree=3, gamma=0.001, kernel=linear; total time=   0.6s\n",
            "[CV] END .............C=1, degree=3, gamma=auto, kernel=poly; total time=   0.9s\n",
            "[CV] END ............C=1, degree=3, gamma=0.001, kernel=poly; total time=   0.7s\n",
            "[CV] END .............C=1, degree=3, gamma=0.001, kernel=rbf; total time=   0.9s\n",
            "[CV] END .............C=1, degree=3, gamma=0.001, kernel=rbf; total time=   0.9s\n",
            "[CV] END ............C=1, degree=3, gamma=0.001, kernel=poly; total time=   0.8s\n",
            "[CV] END ...........C=1, degree=3, gamma=0.01, kernel=linear; total time=   0.7s\n",
            "[CV] END ...........C=1, degree=3, gamma=0.01, kernel=linear; total time=   0.8s\n",
            "[CV] END ..............C=1, degree=3, gamma=0.01, kernel=rbf; total time=   0.7s\n",
            "[CV] END ..............C=1, degree=3, gamma=0.01, kernel=rbf; total time=   0.7s\n",
            "[CV] END .............C=1, degree=3, gamma=0.01, kernel=poly; total time=   0.6s\n",
            "[CV] END .............C=1, degree=3, gamma=0.01, kernel=poly; total time=   0.5s\n",
            "Лучшие гиперпараметры SVC: {'C': 1, 'degree': 2, 'gamma': 'scale', 'kernel': 'rbf'}\n",
            "Лучший F1 Score на тренинговых данных (SVC): 0.6862120138193706\n"
          ]
        }
      ],
      "source": [
        "param_grid_svc = {\n",
        "    'C': [0.001, 0.01, 0.1, 1],\n",
        "    'kernel': ['linear', 'rbf', 'poly'],\n",
        "    'gamma': ['scale', 'auto'] + [0.001, 0.01],  \n",
        "    'degree': [2, 3]  # Использовать если kernel = 'poly'\n",
        "}\n",
        "\n",
        "svc_model = SVC()\n",
        "\n",
        "grid_search_svc = GridSearchCV(svc_model, param_grid_svc, cv=2, scoring='f1_weighted', n_jobs=-1, verbose=2)\n",
        "grid_search_svc.fit(X_train_vectorized, y_train)\n",
        "\n",
        "best_params_svc = grid_search_svc.best_params_\n",
        "best_f1_svc = grid_search_svc.best_score_\n",
        "\n",
        "print(\"Лучшие гиперпараметры SVC:\", best_params_svc)\n",
        "print(\"Лучший F1 Score на тренинговых данных (SVC):\", best_f1_svc)"
      ]
    },
    {
      "cell_type": "markdown",
      "metadata": {
        "id": "WyBkbucodifU"
      },
      "source": [
        "Ваши выводы здесь."
      ]
    },
    {
      "cell_type": "markdown",
      "metadata": {
        "id": "ix0MxY8Td2uv"
      },
      "source": [
        "### **Задание 14. (0.5 балла)**\n",
        "\n",
        "Оформите два пайплайна:\n",
        "- для модели регрессии\n",
        "- для SVC модели\n",
        "\n",
        "в пайплайн должны входить предобработка сырого датасета и обучение модели."
      ]
    },
    {
      "cell_type": "code",
      "execution_count": 113,
      "metadata": {
        "id": "l-nOCtW75uBW"
      },
      "outputs": [],
      "source": [
        "from sklearn.pipeline import Pipeline\n",
        "\n",
        "pipeline_lr = Pipeline([\n",
        "    ('vectorizer', CountVectorizer(max_features=1000, min_df=0.02, max_df=0.8)),\n",
        "    ('classifier', LogisticRegression()) \n",
        "])\n",
        "\n",
        "start_time_lr = time.time()\n",
        "pipeline_lr.fit(X_train, y_train)\n",
        "end_time_lr = time.time()\n",
        "\n",
        "pipeline_svc = Pipeline([\n",
        "    ('vectorizer', CountVectorizer(max_features=1000, min_df=0.02, max_df=0.8)), \n",
        "    ('classifier', SVC(kernel='rbf')) \n",
        "])\n",
        "\n",
        "start_time_svc = time.time()\n",
        "pipeline_svc.fit(X_train, y_train)\n",
        "end_time_svc = time.time()"
      ]
    },
    {
      "cell_type": "code",
      "execution_count": 114,
      "metadata": {},
      "outputs": [
        {
          "name": "stdout",
          "output_type": "stream",
          "text": [
            "F1 Score на тестовых данных (Logistic Regression): 0.66970598415077\n",
            "Время обучения модели Logistic Regression: 0.08359384536743164 секунд\n",
            "F1 Score на тестовых данных (SVC): 0.6996436785888224\n",
            "Время обучения модели SVC: 1.2760610580444336 секунд\n"
          ]
        }
      ],
      "source": [
        "y_pred_lr = pipeline_lr.predict(X_test)\n",
        "y_pred_svc = pipeline_svc.predict(X_test)\n",
        "\n",
        "f1_lr = f1_score(y_test, y_pred_lr, average='weighted')\n",
        "f1_svc = f1_score(y_test, y_pred_svc, average='weighted')\n",
        "print(\"F1 Score на тестовых данных (Logistic Regression):\", f1_lr)\n",
        "print(\"Время обучения модели Logistic Regression:\", end_time_lr - start_time_lr, \"секунд\")\n",
        "print(\"F1 Score на тестовых данных (SVC):\", f1_svc)\n",
        "print(\"Время обучения модели SVC:\", end_time_svc - start_time_svc, \"секунд\")"
      ]
    },
    {
      "cell_type": "markdown",
      "metadata": {
        "id": "mnmwn355E0R2"
      },
      "source": [
        "### **Выводы**\n",
        "\n",
        "Зафиксируйте выводы работы. Проанализируйте, что проделано и какие результаты вы получили. Заполняется в свободной форме."
      ]
    },
    {
      "cell_type": "markdown",
      "metadata": {},
      "source": [
        "Попробовал уменьшить количество признаков, для борьбы с переобучением. Не совсем получилось. Возможно где-то по дороге возникла ошибка"
      ]
    },
    {
      "cell_type": "markdown",
      "metadata": {
        "id": "ZxsLQikfMVzR"
      },
      "source": [
        "## Чей кот?\n",
        "\n",
        "![photo_2024-12-13 16.24.56.jpeg](data:image/jpeg;base64,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)"
      ]
    },
    {
      "cell_type": "markdown",
      "metadata": {},
      "source": [
        "Сабрины"
      ]
    }
  ],
  "metadata": {
    "colab": {
      "include_colab_link": true,
      "provenance": []
    },
    "kernelspec": {
      "display_name": "Python 3",
      "language": "python",
      "name": "python3"
    },
    "language_info": {
      "codemirror_mode": {
        "name": "ipython",
        "version": 3
      },
      "file_extension": ".py",
      "mimetype": "text/x-python",
      "name": "python",
      "nbconvert_exporter": "python",
      "pygments_lexer": "ipython3",
      "version": "3.10.13"
    },
    "toc": {
      "base_numbering": 1,
      "nav_menu": {},
      "number_sections": true,
      "sideBar": true,
      "skip_h1_title": true,
      "title_cell": "Table of Contents",
      "title_sidebar": "Contents",
      "toc_cell": false,
      "toc_position": {},
      "toc_section_display": true,
      "toc_window_display": false
    },
    "varInspector": {
      "cols": {
        "lenName": 16,
        "lenType": 16,
        "lenVar": 40
      },
      "kernels_config": {
        "python": {
          "delete_cmd_postfix": "",
          "delete_cmd_prefix": "del ",
          "library": "var_list.py",
          "varRefreshCmd": "print(var_dic_list())"
        },
        "r": {
          "delete_cmd_postfix": ") ",
          "delete_cmd_prefix": "rm(",
          "library": "var_list.r",
          "varRefreshCmd": "cat(var_dic_list()) "
        }
      },
      "types_to_exclude": [
        "module",
        "function",
        "builtin_function_or_method",
        "instance",
        "_Feature"
      ],
      "window_display": false
    }
  },
  "nbformat": 4,
  "nbformat_minor": 0
}
